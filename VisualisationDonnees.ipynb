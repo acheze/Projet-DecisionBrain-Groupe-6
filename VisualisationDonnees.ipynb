{
 "cells": [
  {
   "cell_type": "code",
   "execution_count": 4,
   "metadata": {},
   "outputs": [],
   "source": [
    "# Modules de base\n",
    "import numpy as np\n",
    "import matplotlib.pyplot as plt\n",
    "%matplotlib inline\n",
    "import pandas as pd \n",
    "\n",
    "# Module relatif à Gurobi\n",
    "from gurobipy import *\n",
    "\n",
    "# Module csv\n",
    "import csv\n",
    "\n",
    "\n",
    "import plotly.express as px\n",
    "\n"
   ]
  },
  {
   "attachments": {},
   "cell_type": "markdown",
   "metadata": {},
   "source": [
    "Une fois le modèle exécuté, on dispose de\n",
    "X i,j  qui vaut 1 si l'employé i fait la tâche indicée j, 0 sinon\n",
    "T j  qui vaut l'heure de début de la tâche indicée j\n",
    "Y i,j qui vaut 1 si la tâche j se fait après la tâche i dans l'emploi du temps de quelqu'un, 0 sinon"
   ]
  },
  {
   "cell_type": "code",
   "execution_count": 6,
   "metadata": {},
   "outputs": [
    {
     "ename": "AttributeError",
     "evalue": "'int' object has no attribute 'getVarByName'",
     "output_type": "error",
     "traceback": [
      "\u001b[1;31m---------------------------------------------------------------------------\u001b[0m",
      "\u001b[1;31mAttributeError\u001b[0m                            Traceback (most recent call last)",
      "\u001b[1;32m<ipython-input-6-66ff4f3cde0c>\u001b[0m in \u001b[0;36m<module>\u001b[1;34m\u001b[0m\n\u001b[0;32m     10\u001b[0m \u001b[1;32mfor\u001b[0m \u001b[0mi\u001b[0m \u001b[1;32min\u001b[0m \u001b[0mrange\u001b[0m \u001b[1;33m(\u001b[0m\u001b[1;36m1\u001b[0m\u001b[1;33m,\u001b[0m\u001b[0mN\u001b[0m\u001b[1;33m+\u001b[0m\u001b[1;36m1\u001b[0m\u001b[1;33m)\u001b[0m\u001b[1;33m:\u001b[0m\u001b[1;33m\u001b[0m\u001b[1;33m\u001b[0m\u001b[0m\n\u001b[0;32m     11\u001b[0m     \u001b[1;32mfor\u001b[0m \u001b[0mj\u001b[0m \u001b[1;32min\u001b[0m \u001b[0mrange\u001b[0m\u001b[1;33m(\u001b[0m\u001b[1;36m1\u001b[0m\u001b[1;33m,\u001b[0m \u001b[0mL\u001b[0m \u001b[1;33m+\u001b[0m \u001b[0mK\u001b[0m \u001b[1;33m+\u001b[0m \u001b[1;36m2\u001b[0m\u001b[1;33m*\u001b[0m\u001b[0mN\u001b[0m \u001b[1;33m+\u001b[0m \u001b[1;36m1\u001b[0m\u001b[1;33m)\u001b[0m\u001b[1;33m:\u001b[0m\u001b[1;33m\u001b[0m\u001b[1;33m\u001b[0m\u001b[0m\n\u001b[1;32m---> 12\u001b[1;33m         \u001b[0mX0\u001b[0m\u001b[1;33m[\u001b[0m\u001b[1;33m(\u001b[0m\u001b[0mi\u001b[0m\u001b[1;33m,\u001b[0m\u001b[0mj\u001b[0m\u001b[1;33m)\u001b[0m\u001b[1;33m]\u001b[0m \u001b[1;33m=\u001b[0m \u001b[0mm\u001b[0m\u001b[1;33m.\u001b[0m\u001b[0mgetVarByName\u001b[0m\u001b[1;33m(\u001b[0m\u001b[1;34mf'employeetask{i}_{j}'\u001b[0m\u001b[1;33m)\u001b[0m\u001b[1;33m\u001b[0m\u001b[1;33m\u001b[0m\u001b[0m\n\u001b[0m\u001b[0;32m     13\u001b[0m \u001b[1;33m\u001b[0m\u001b[0m\n\u001b[0;32m     14\u001b[0m \u001b[1;33m\u001b[0m\u001b[0m\n",
      "\u001b[1;31mAttributeError\u001b[0m: 'int' object has no attribute 'getVarByName'"
     ]
    }
   ],
   "source": [
    "\n",
    "routeindex = dict() #dictionnaire contenant les listes ordonnées des indices des taches réalisées associé à chque employé i (i étant la valeur de la clé)\n",
    "route = dict()   #contient les points de la route de chaque employé sous forme de liste de tuple (latitude,longitude)\n",
    "\n",
    "#Extraction des sorties\n",
    "\n",
    "X0 = dict()\n",
    "Y0 = dict()\n",
    "T0 = dict()\n",
    "\n",
    "for i in range (1,N+1):\n",
    "    for j in range(1, L + K + 2*N + 1):\n",
    "        X0[(i,j)] = m.getVarByName(f'employeetask{i}_{j}')\n",
    "\n",
    "\n",
    "for j in range(1, L + K + 2*N + 1):\n",
    "    T0[(i,j)] = m.getVarByName(f'begintask_{j}')\n",
    "\n",
    "for i in range (1, L + K + 2*N +1):\n",
    "    for j in range(1, L + K + 2*N + 1):\n",
    "        Y0[(i,j)] = m.getVarByName(f'successivetask{i}_{j}')\n",
    "\n",
    "\n",
    "\n",
    "\n",
    "for i in range (N):        #on va pour chaque employé retracer son trajet grâce à Y i_j\n",
    "    a = Employees[\"EmployeeName\"][i]\n",
    "    routeIndiv = []\n",
    "    m = K+L+i+1\n",
    "    routeIndiv.append(m)\n",
    "    while m!= K+L+N+i+1:\n",
    "        for j in range (L+K+2*N):\n",
    "            if   Y0[(m,j)] == 1 :   #à adapter pour que ça fonctionne avec Y variable du pb\n",
    "                m = j\n",
    "                routeIndiv.appen(m)\n",
    "        break\n",
    "    routeindex[a] = routeIndiv   \n",
    "\n",
    "\n",
    "for k in routeindex.key():\n",
    "    route[k] = [(Position[i][0],Position[i][1]) for i in routeindex[k]]   #ensemble des points (longitude, Latitude) organisés en listes de trajet par employé  \n",
    "\n",
    "\n",
    "\n",
    "\n",
    "def plotRoute(route):\n",
    "    xs = [task[0] for task in route] + [task[0][0]]\n",
    "    ys = [task[1] for task in route] + [task[0][1]]\n",
    "    plt.plot(xs, ys, 'o-')\n",
    "    plt.ylabel('x')\n",
    "    plt.xlabel('y')\n",
    "    plt.show()\n",
    "\n",
    "\n",
    "\n",
    "### Création .txt avec TaskID, performed, employeename, starttime\n",
    "\n",
    "fichier = open(\"solution\", \"x\")\n",
    "\n",
    "table = np.array\n",
    "\n",
    "\n",
    "\n",
    "\n",
    "\n",
    "###preparation diagramme de Gantt\n",
    "df = pd.DataFrame([\n",
    "    dict(Task=\"Task {}\".format(i), Start='2009-01-01', Finish='2009-02-28', Resource=\"Alex\") for i in range (L+K+2*N)\n",
    "])\n",
    "\n",
    "fig = px.timeline(df, x_start=\"Start\", x_end=\"Finish\", y=\"Resource\", color=\"Resource\")\n",
    "fig.show()\n",
    "\n",
    "\n",
    "\n",
    "\n"
   ]
  }
 ],
 "metadata": {
  "kernelspec": {
   "display_name": "base",
   "language": "python",
   "name": "python3"
  },
  "language_info": {
   "codemirror_mode": {
    "name": "ipython",
    "version": 3
   },
   "file_extension": ".py",
   "mimetype": "text/x-python",
   "name": "python",
   "nbconvert_exporter": "python",
   "pygments_lexer": "ipython3",
   "version": "3.8.3"
  },
  "orig_nbformat": 4,
  "vscode": {
   "interpreter": {
    "hash": "26bd856f3b4fa88b0f4af023dab36e83d37285060c9f0809863006eb55bf9261"
   }
  }
 },
 "nbformat": 4,
 "nbformat_minor": 2
}

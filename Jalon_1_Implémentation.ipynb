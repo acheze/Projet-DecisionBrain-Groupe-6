{
 "cells": [
  {
   "cell_type": "code",
   "execution_count": 2,
   "id": "db839149",
   "metadata": {},
   "outputs": [],
   "source": [
    "# Modules de base\n",
    "import numpy as np\n",
    "import matplotlib.pyplot as plt\n",
    "%matplotlib inline\n",
    "import pandas as pd \n",
    "\n",
    "# Module relatif à Gurobi\n",
    "from gurobipy import *\n",
    "\n",
    "# Module csv\n",
    "import csv"
   ]
  },
  {
   "cell_type": "markdown",
   "id": "be526f6a",
   "metadata": {},
   "source": [
    "## Importation des données"
   ]
  },
  {
   "cell_type": "code",
   "execution_count": 3,
   "id": "9d070128",
   "metadata": {},
   "outputs": [
    {
     "name": "stdout",
     "output_type": "stream",
     "text": [
      "  EmployeeName   Latitude  Longitude     Skill  Level WorkingStartTime  \\\n",
      "0     Valentin  45.151218  -0.822093  Oenology      2           8:00am   \n",
      "1        Ambre  45.151218  -0.822093  Oenology      1           8:00am   \n",
      "\n",
      "  WorkingEndTime  \n",
      "0         6:00pm  \n",
      "1         6:00pm  \n"
     ]
    }
   ],
   "source": [
    "# Instance_file : str\n",
    "Instance_file = \"InstanceBordeauxV1.xlsx\"\n",
    "\n",
    "# Chargement des donnees\n",
    "Employees = pd.read_excel(Instance_file, sheet_name= 'Employees')\n",
    "Tasks = pd.read_excel(Instance_file, sheet_name= 'Tasks')\n",
    "Employees_Unavailabilities = pd.read_excel(Instance_file, sheet_name= 'Employees Unavailabilities')\n",
    "Tasks_Unavailabilities = pd.read_excel(Instance_file, sheet_name= 'Tasks Unavailabilities')\n",
    "\n",
    "print(Employees)"
   ]
  },
  {
   "cell_type": "markdown",
   "id": "c8d78ac2",
   "metadata": {},
   "source": [
    "## Création des dictionnaires de paramètres"
   ]
  },
  {
   "cell_type": "markdown",
   "id": "72c245ef",
   "metadata": {},
   "source": [
    "Listes des dictionnaires de paramètres à créer:\n",
    "- LevelEmployee[i] qui à un employé i lui associe son niveau de compétence\n",
    "- BeginningEmployee[i] qui à un employé i lui associe son début de journée de travail\n",
    "- EndEmployee[i] qui à un employé i lui associe sa fin de journée de travail\n",
    "- LevelTask[j] qui à une tâche j lui associe son niveau de difficulté\n",
    "- BeginningTask[j] qui à une tâche j lui aussi le début du créneau durant lequel on peut l'effectuer\n",
    "- EndTask[j] qui à une tâche j lui aussi la fin du créneau durant lequel on peut l'effectuer\n",
    "- DurationTask[j] qui à une tâche j lui associe sa durée\n",
    "- TasksUnavailabilities[j]\n",
    "- DistDict[i][j] dictionnaire contenant les distances entre toutes les tâches et les domiciles des employées\n",
    "- TimeDict[i][j] dictionnaire contenant les temps de trajet associés\n",
    "- Unavailability[l]: recense les indisponibilités sous forme (employe, debutindispo, duree)"
   ]
  },
  {
   "cell_type": "code",
   "execution_count": 84,
   "id": "713a1c9e",
   "metadata": {},
   "outputs": [
    {
     "name": "stdout",
     "output_type": "stream",
     "text": [
      "{1: 18.0, 2: 18.0, 3: 18.0, 4: 18.0, 5: 18.0, 6: 18.0, 7: 18.0, 8: 18.0, 9: 18.0, 10: 18.0, 11: 8.0, 12: 8.0, 13: 18.0, 14: 18.0}\n",
      "{(1, 2): 1.0217165126372043, (2, 1): 1.0217165126372043, (1, 3): 1.4614402548607615, (3, 1): 1.4614402548607615, (1, 4): 1.7287379164063463, (4, 1): 1.7287379164063463, (1, 5): 1.2170045168101324, (5, 1): 1.2170045168101324, (1, 6): 1.5802896694770947, (6, 1): 1.5802896694770947, (1, 7): 2.1298880486390215, (7, 1): 2.1298880486390215, (1, 8): 1.2926838792504103, (8, 1): 1.2926838792504103, (1, 9): 1.90418311153199, (9, 1): 1.90418311153199, (1, 10): 1.3973216507616857, (10, 1): 1.3973216507616857, (2, 3): 0.4397289075591224, (3, 2): 0.4397289075591224, (2, 4): 0.7089972454352003, (4, 2): 0.7089972454352003, (2, 5): 0.19541368070280252, (5, 2): 0.19541368070280252, (2, 6): 0.559462489108554, (6, 2): 0.559462489108554, (2, 7): 1.109249846470811, (7, 2): 1.109249846470811, (2, 8): 0.3361191598312767, (8, 2): 0.3361191598312767, (2, 9): 0.8878647675886318, (9, 2): 0.8878647675886318, (2, 10): 0.40082829442049445, (10, 2): 0.40082829442049445, (3, 4): 0.2745584778368015, (4, 3): 0.2745584778368015, (3, 5): 0.2445923611948902, (5, 3): 0.2445923611948902, (3, 6): 0.12453062237362006, (6, 3): 0.12453062237362006, (3, 7): 0.6710122353507368, (7, 3): 0.6710122353507368, (3, 8): 0.2919218919113159, (8, 3): 0.2919218919113159, (3, 9): 0.45800108125930755, (9, 3): 0.45800108125930755, (3, 10): 0.17955801930123272, (10, 3): 0.17955801930123272, (4, 5): 0.5160615147910264, (5, 4): 0.5160615147910264, (4, 6): 0.1505036458069685, (6, 4): 0.1505036458069685, (4, 7): 0.42463121292719586, (7, 4): 0.42463121292719586, (4, 8): 0.5395599940495012, (8, 4): 0.5395599940495012, (4, 9): 0.26527533180308455, (9, 4): 0.26527533180308455, (4, 10): 0.4113070052249611, (10, 4): 0.4113070052249611, (5, 6): 0.36581809852312924, (6, 5): 0.36581809852312924, (5, 7): 0.9139075836864575, (7, 5): 0.9139075836864575, (5, 8): 0.22252054718476416, (8, 5): 0.22252054718476416, (5, 9): 0.6940131447911202, (9, 5): 0.6940131447911202, (5, 10): 0.23113711760200326, (10, 5): 0.23113711760200326, (6, 7): 0.5596702625433485, (7, 6): 0.5596702625433485, (6, 8): 0.4031525113850945, (8, 6): 0.4031525113850945, (6, 9): 0.36317634690441414, (9, 6): 0.36317634690441414, (6, 10): 0.2790443319433488, (10, 6): 0.2790443319433488, (7, 8): 0.868979241590528, (8, 7): 0.868979241590528, (7, 9): 0.23778780159466936, (9, 7): 0.23778780159466936, (7, 10): 0.7468757237572656, (10, 7): 0.7468757237572656, (8, 9): 0.6325843145147857, (9, 8): 0.6325843145147857, (8, 10): 0.12895632589103442, (10, 8): 0.12895632589103442, (9, 10): 0.5126760325703571, (10, 9): 0.5126760325703571, (1, 11): 1.541753427708023, (11, 1): 1.541753427708023, (1, 13): 1.541753427708023, (13, 1): 1.541753427708023, (1, 12): 1.541753427708023, (12, 1): 1.541753427708023, (1, 14): 1.541753427708023, (14, 1): 1.541753427708023, (2, 11): 0.5285015558568005, (11, 2): 0.5285015558568005, (2, 13): 0.5285015558568005, (13, 2): 0.5285015558568005, (2, 12): 0.5285015558568005, (12, 2): 0.5285015558568005, (2, 14): 0.5285015558568005, (14, 2): 0.5285015558568005, (3, 11): 0.13864516317146347, (11, 3): 0.13864516317146347, (3, 13): 0.13864516317146347, (13, 3): 0.13864516317146347, (3, 12): 0.13864516317146347, (12, 3): 0.13864516317146347, (3, 14): 0.13864516317146347, (14, 3): 0.13864516317146347, (4, 11): 0.2646241574760485, (11, 4): 0.2646241574760485, (4, 13): 0.2646241574760485, (13, 4): 0.2646241574760485, (4, 12): 0.2646241574760485, (12, 4): 0.2646241574760485, (4, 14): 0.2646241574760485, (14, 4): 0.2646241574760485, (5, 11): 0.33815202220682367, (11, 5): 0.33815202220682367, (5, 13): 0.33815202220682367, (13, 5): 0.33815202220682367, (5, 12): 0.33815202220682367, (12, 5): 0.33815202220682367, (5, 14): 0.33815202220682367, (14, 5): 0.33815202220682367, (6, 11): 0.16036779998746425, (11, 6): 0.16036779998746425, (6, 13): 0.16036779998746425, (13, 6): 0.16036779998746425, (6, 12): 0.16036779998746425, (12, 6): 0.16036779998746425, (6, 14): 0.16036779998746425, (14, 6): 0.16036779998746425, (7, 11): 0.5930967653006399, (11, 7): 0.5930967653006399, (7, 13): 0.5930967653006399, (13, 7): 0.5930967653006399, (7, 12): 0.5930967653006399, (12, 7): 0.5930967653006399, (7, 14): 0.5930967653006399, (14, 7): 0.5930967653006399, (8, 11): 0.28503669189639935, (11, 8): 0.28503669189639935, (8, 13): 0.28503669189639935, (13, 8): 0.28503669189639935, (8, 12): 0.28503669189639935, (12, 8): 0.28503669189639935, (8, 14): 0.28503669189639935, (14, 8): 0.28503669189639935, (9, 11): 0.36254063552021065, (11, 9): 0.36254063552021065, (9, 13): 0.36254063552021065, (13, 9): 0.36254063552021065, (9, 12): 0.36254063552021065, (12, 9): 0.36254063552021065, (9, 14): 0.36254063552021065, (14, 9): 0.36254063552021065, (10, 11): 0.15711108963984197, (11, 10): 0.15711108963984197, (10, 13): 0.15711108963984197, (13, 10): 0.15711108963984197, (10, 12): 0.15711108963984197, (12, 10): 0.15711108963984197, (10, 14): 0.15711108963984197, (14, 10): 0.15711108963984197}\n"
     ]
    }
   ],
   "source": [
    "#Paramètres\n",
    "N = len(Employees[\"EmployeeName\"])\n",
    "K = len(Tasks[\"TaskId\"])\n",
    "L = len(Tasks_Unavailabilities[\"TaskId\"])\n",
    "\n",
    "\n",
    "\n",
    "LevelEmployee = dict()\n",
    "\n",
    "for i in range (len(Employees[\"EmployeeName\"])):\n",
    "    a = Employees[\"EmployeeName\"][i]\n",
    "    b = Employees[\"Level\"][i]\n",
    "    LevelEmployee[i+1] = b\n",
    "\n",
    "#print(LevelEmployee)\n",
    "\n",
    "BeginningEmployee = dict()\n",
    "\n",
    "for i in range (len(Employees[\"EmployeeName\"])):\n",
    "    a = Employees[\"EmployeeName\"][i]\n",
    "    b = Employees[\"WorkingStartTime\"][i][:1]\n",
    "    bg = b[:2]   #prend les deux premiers caractères\n",
    "    bd = b[-3:]\n",
    "    if bg[-1:] == \":\":  #cas où l'heure n'a qu'un chiffre\n",
    "        b = int(b[:1]) + int(bd[:2]) *100/60\n",
    "        \n",
    "    if bg[-1:] != \":\":\n",
    "        b = int(b[:2]) + int(bd[-2:]) *100/60\n",
    "\n",
    "    if Employees[\"WorkingStartTime\"][i][-2:] == 'am':\n",
    "        BeginningEmployee[a] = b\n",
    "    if Employees[\"WorkingStartTime\"][i][2:] == \"pm\":\n",
    "        BeginningEmployee[a] = b + 12\n",
    "\n",
    "#print(BeginningEmployee)\n",
    "\n",
    "EndEmployee = dict()\n",
    "\n",
    "for i in range (len(Employees[\"EmployeeName\"])):\n",
    "    a = Employees[\"EmployeeName\"][i]\n",
    "    b = Employees[\"WorkingEndTime\"][i][:1]\n",
    "    bg = b[:2]   #prend les deux premiers caractères\n",
    "    bd = b[-3:]\n",
    "    if bg[-1:] == \":\":  #cas où l'heure n'a qu'un chiffre\n",
    "        b = int(b[:1]) + int(bd[:2]) *100/60\n",
    "        \n",
    "    if bg[-1:] != \":\":\n",
    "        b = int(b[:2]) + int(bd[-2:]) *100/60\n",
    "\n",
    "    if Employees[\"WorkingEndTime\"][i][-2:] == 'am':\n",
    "        EndEmployee[a] = b\n",
    "    if Employees[\"WorkingEndTime\"][i][2:] == \"pm\":\n",
    "        EndEmployee[a] = b + 12\n",
    "\n",
    "#print(EndEmployee)\n",
    "\n",
    "LevelTask = dict()\n",
    "\n",
    "for i in range (len(Tasks[\"TaskId\"])):\n",
    "    a = i+1\n",
    "    b = Tasks[\"Level\"][i]\n",
    "    LevelTask[a] = b\n",
    "\n",
    "#print(LevelTask)\n",
    "\n",
    "TasksUnavailabilities = dict()\n",
    "\n",
    "for i in range (len(Tasks_Unavailabilities[\"TaskId\"])):\n",
    "    a = Tasks_Unavailabilities[\"TaskId\"][i] \n",
    "    b = Tasks_Unavailabilities[\"Start\"][i][:5]\n",
    "    bg = b[:2]   #prend les deux premiers caractères\n",
    "    bd = b[-3:]\n",
    "    if bg[-1:] == \":\":  #cas où l'heure n'a qu'un chiffre\n",
    "        b = int(b[:1]) + int(bd[:2]) *100/60\n",
    "        \n",
    "    if bg[-1:] != \":\":\n",
    "        b = int(b[:2]) + int(bd[-2:]) *100/60\n",
    "        \n",
    "    c = Tasks_Unavailabilities[\"End\"][i][:5]\n",
    "    cg = c[:2]   #prend les deux premiers caractères\n",
    "    cd = c[-3:]\n",
    "    if cg[-1:] == \":\":  #cas où l'heure n'a qu'un chiffre\n",
    "        c = int(c[:1]) + int(cd[:2]) *100/60\n",
    "        \n",
    "    if cg[-1:] != \":\":\n",
    "        c = int(c[:2]) + int(cd[-2:]) *100/60\n",
    "\n",
    "    if Tasks_Unavailabilities[\"Start\"][i][-2:] == 'pm' and b!=12:\n",
    "        b = b + 12\n",
    "    if Tasks_Unavailabilities[\"End\"][i][2:] == \"pm\" and c!=12:\n",
    "        c = c + 12\n",
    "    TasksUnavailabilities[a] = [b,c]\n",
    "\n",
    "#print(TasksUnavailabilities)\n",
    "\n",
    "Unavailability = dict()\n",
    "\n",
    "for i in range (len(Employees_Unavailabilities[\"EmployeeName\"])):\n",
    "    a = Employees_Unavailabilities[\"EmployeeName\"][i] \n",
    "    b = Employees_Unavailabilities[\"Start\"][i][:5]\n",
    "    bg = b[:2]   #prend les deux premiers caractères\n",
    "    bd = b[-3:]\n",
    "    if bg[-1:] == \":\":  #cas où l'heure n'a qu'un chiffre\n",
    "        b = int(b[:1]) + int(bd[:2]) *100/60\n",
    "        \n",
    "    if bg[-1:] != \":\":\n",
    "        b = int(b[:2]) + int(bd[-2:]) *100/60\n",
    "        \n",
    "    c = Employees_Unavailabilities[\"End\"][i][:5]\n",
    "    cg = c[:2]   #prend les deux premiers caractères\n",
    "    cd = c[-3:]\n",
    "    if cg[-1:] == \":\":  #cas où l'heure n'a qu'un chiffre\n",
    "        c = int(c[:1]) + int(cd[:2]) *100/60\n",
    "        \n",
    "    if cg[-1:] != \":\":\n",
    "        c = int(c[:2]) + int(cd[-2:]) *100/60\n",
    "    if Employees_Unavailabilities[\"Start\"][i][-2:] == 'pm'and b!=12:\n",
    "        b = int(b) + 12\n",
    "    if Employees_Unavailabilities[\"End\"][i][2:] == \"pm\" and c!=12:\n",
    "        c = int(c) + 12 - b\n",
    "    Unavailability[i] = [a,b,c]\n",
    "\n",
    "#print(Unavailability)\n",
    "\n",
    "\n",
    "BeginningTask = dict()\n",
    "\n",
    "for i in range (K+L+2*N): \n",
    "    if i < L:\n",
    "        a = Employees_Unavailabilities[\"EmployeeName\"][i]\n",
    "        b = Employees_Unavailabilities[\"Start\"][i][:5]\n",
    "        c = Employees_Unavailabilities[\"Start\"][i]\n",
    "    if i >= L and i < L+K:\n",
    "        a = Tasks[\"TaskId\"][i-L]\n",
    "        b = Tasks[\"OpeningTime\"][i-L][:5]\n",
    "        c = Tasks[\"OpeningTime\"][i-L]\n",
    "    if i >= L+K and i < L+K+N:\n",
    "        a = Employees[\"EmployeeName\"][i-L-K]\n",
    "        b = Employees[\"WorkingStartTime\"][i-L-K][:5]\n",
    "        c = Employees[\"WorkingStartTime\"][i-L-K]\n",
    "    if i >= L+K+N:\n",
    "        a = Employees[\"EmployeeName\"][i-L-K-N]\n",
    "        b = Employees[\"WorkingEndTime\"][i-L-K-N][:5]\n",
    "        c = Employees[\"WorkingEndTime\"][i-L-K-N]\n",
    "    bg = b[:2]   #prend les deux premiers caractères\n",
    "    bd = b[-3:]\n",
    "    \n",
    "    if bg[-1:] == \":\":  #cas où l'heure n'a qu'un chiffre\n",
    "        b = int(b[:1]) + int(bd[:2]) *100/60\n",
    "        \n",
    "    if bg[-1:] != \":\":\n",
    "        b = int(b[:2]) + int(bd[-2:]) *100/60\n",
    "        \n",
    "    if c[-2:] == 'am':\n",
    "        #BeginningTask[a] = b\n",
    "        BeginningTask[i+1] = b\n",
    "    if c[-2:] == \"pm\":\n",
    "        #BeginningTask[a] = b + 12\n",
    "        BeginningTask[i+1] = b + 12\n",
    "\n",
    " \n",
    "\n",
    "#print(BeginningTask)\n",
    "\n",
    "\n",
    "EndTask = dict()\n",
    "\n",
    "for i in range (K+L+2*N): \n",
    "    if i < L:\n",
    "        a = Employees_Unavailabilities[\"EmployeeName\"][i]\n",
    "        b = Employees_Unavailabilities[\"End\"][i][:5]\n",
    "        c = Employees_Unavailabilities[\"End\"][i]\n",
    "    if i >= L and i < L+K:\n",
    "        a = Tasks[\"TaskId\"][i-L]\n",
    "        b = Tasks[\"ClosingTime\"][i-L][:5]\n",
    "        c = Tasks[\"ClosingTime\"][i-L]\n",
    "    if i >= L+K and i < L+K+N:\n",
    "        a = Employees[\"EmployeeName\"][i-L-K]\n",
    "        b = Employees[\"WorkingStartTime\"][i-L-K][:5]\n",
    "        c = Employees[\"WorkingStartTime\"][i-L-K]\n",
    "    if i >= L+K+N:\n",
    "        a = Employees[\"EmployeeName\"][i-L-K-N]\n",
    "        b = Employees[\"WorkingEndTime\"][i-L-K-N][:5]\n",
    "        c = Employees[\"WorkingEndTime\"][i-L-K-N]\n",
    "    bg = b[:2]   #prend les deux premiers caractères\n",
    "    bd = b[-3:]\n",
    "    \n",
    "    if bg[-1:] == \":\":  #cas où l'heure n'a qu'un chiffre\n",
    "        b = int(b[:1]) + int(bd[:2]) *100/60\n",
    "        \n",
    "    if bg[-1:] != \":\":\n",
    "        b = int(b[:2]) + int(bd[-2:]) *100/60\n",
    "        \n",
    "    if c[-2:] == 'am':\n",
    "        #EndTask[a] = b\n",
    "        EndTask[i+1] = b\n",
    "    if c[-2:] == \"pm\":\n",
    "        #EndTask[a] = b + 12\n",
    "        EndTask[i+1] = b + 12\n",
    "\n",
    "print(EndTask)\n",
    "\n",
    "\n",
    "DurationTask = dict()\n",
    "\n",
    "for i in range (K):\n",
    "    a = L + i + 1\n",
    "    b = Tasks[\"TaskDuration\"][i] / 60\n",
    "    DurationTask[a] = b\n",
    "for i in range (L):\n",
    "    a = i + 1\n",
    "    b = Unavailability[i][2] / 60\n",
    "    DurationTask[a] = b\n",
    "for i in range (N):\n",
    "    a = L + K + i + 1\n",
    "    b = 0\n",
    "    DurationTask[a] = b\n",
    "    DurationTask[a+N] = b\n",
    "\n",
    "#print(DurationTask)\n",
    "\n",
    "##Création du dictionnaire des distances\n",
    "#DistDic: associe à (i,j) la distance entre les deux tâches\n",
    "\n",
    "DistDict = dict()\n",
    "R = 6371  #rayon de la Terre\n",
    "\n",
    "for i in range (len(Tasks[\"TaskId\"])):               ## ajout des distances entre tasks\n",
    "    for k in range (len(Tasks[\"TaskId\"])):\n",
    "        if k!=i:\n",
    "            L_i = Tasks[\"Longitude\"][i]\n",
    "            l_i = Tasks[\"Latitude\"][i]\n",
    "            L_k = Tasks[\"Longitude\"][k]\n",
    "            l_k = Tasks[\"Latitude\"][k]\n",
    "            A = np.sin((l_i-l_k)*np.pi/(2*180))**2\n",
    "            B = (np.sin((L_i-L_k)*np.pi/(2*180))**2)*np.cos(l_i*np.pi/180)*np.cos(l_k*np.pi/180)\n",
    "            d = 2*R*np.sqrt(A+B)\n",
    "            DistDict[(L+i+1,L+k+1)] = d\n",
    "            DistDict[(L+k+1,L+i+1)] = d\n",
    "\n",
    "for i in range (K):             #### ajout des disatnces tasks - domiciles des employés\n",
    "    for k in range (N):\n",
    "        L_i = Tasks[\"Longitude\"][i]\n",
    "        l_i = Tasks[\"Latitude\"][i]\n",
    "        L_E = Employees[\"Longitude\"][k]\n",
    "        l_E = Employees[\"Latitude\"][k]\n",
    "        A = np.sin((l_i-l_E)*np.pi/(2*180))**2\n",
    "        B = (np.sin((L_i-L_E)*np.pi/(2*180))**2)*np.cos(l_i*np.pi/180)*np.cos(l_E*np.pi/180)\n",
    "        d = 2*R*np.sqrt(A+B)\n",
    "        DistDict[(L+i+1, L+K+k+1) ] = d \n",
    "        DistDict[(L+K+k+1, L+i+1)] = d \n",
    "        DistDict[(L+i+1, L+K+N+k+1)] = d\n",
    "        DistDict[(L+K+N+k+1,L+i+1)] = d       \n",
    "\n",
    "for i in range (len(Tasks[\"TaskId\"])):      #ona joute les distances entre les tâches et les indispos\n",
    "    for k in range (len(Employees_Unavailabilities[\"EmployeeName\"])):\n",
    "        L_i = Tasks[\"Longitude\"][i]\n",
    "        l_i = Tasks[\"Latitude\"][i]\n",
    "        L_E = Employees_Unavailabilities[\"Longitude\"][k]\n",
    "        l_E = Employees_Unavailabilities[\"Latitude\"][k]\n",
    "        A = np.sin((l_i-l_E)*np.pi/(2*180))**2\n",
    "        B = (np.sin((L_i-L_E)*np.pi/(2*180))**2)*np.cos(l_i*np.pi/180)*np.cos(l_E*np.pi/180)\n",
    "        d = 2*R*np.sqrt(A+B)\n",
    "        DistDict[(L+i+1, k+1)] = d #distance entre indispo k et tâche i\n",
    "        DistDict[(k+1, L+i+1)] = d    \n",
    "        \n",
    "for i in range (len(Employees_Unavailabilities[\"EmployeeName\"])):      #ona joute les distances entre les indispos\n",
    "    for k in range (len(Employees_Unavailabilities[\"EmployeeName\"])):\n",
    "        L_i = Employees_Unavailabilities[\"Longitude\"][i]\n",
    "        l_i = Employees_Unavailabilities[\"Latitude\"][i]\n",
    "        L_E = Employees_Unavailabilities[\"Longitude\"][k]\n",
    "        l_E = Employees_Unavailabilities[\"Latitude\"][k]\n",
    "        A = np.sin((l_i-l_E)*np.pi/(2*180))**2\n",
    "        B = (np.sin((L_i-L_E)*np.pi/(2*180))**2)*np.cos(l_i*np.pi/180)*np.cos(l_E*np.pi/180)\n",
    "        d = 2*R*np.sqrt(A+B)\n",
    "        DistDict[(i+1, k+1)] = d #distance entre indispo k et indispo i\n",
    "        DistDict[(k+1, i+1)] = d    \n",
    "        \n",
    "for i in range (len(Employees_Unavailabilities[\"EmployeeName\"])):      #ona joute les distances entre les indispos et les domiciles\n",
    "    for k in range (len(Employees[\"EmployeeName\"])):\n",
    "        L_i = Employees_Unavailabilities[\"Longitude\"][i]\n",
    "        l_i = Employees_Unavailabilities[\"Latitude\"][i]\n",
    "        L_E = Employees[\"Longitude\"][k]\n",
    "        l_E = Employees[\"Latitude\"][k]\n",
    "        A = np.sin((l_i-l_E)*np.pi/(2*180))**2\n",
    "        B = (np.sin((L_i-L_E)*np.pi/(2*180))**2)*np.cos(l_i*np.pi/180)*np.cos(l_E*np.pi/180)\n",
    "        d = 2*R*np.sqrt(A+B)\n",
    "        DistDict[(L+K+k+1, i+1)] = d #distance entre indispo i et employe k\n",
    "        DistDict[(i+1, L+K+k+1)] = d\n",
    "        DistDict[(L+K+N+k+1, i+1)] = d \n",
    "        DistDict[(i+1, L+K+N+k+1)] = d   \n",
    "\n",
    "#print(DistDict)\n",
    "\n",
    "##Création dictionnaire des temps de trajet\n",
    "\n",
    "# TimeDict : associe à un trajet (i,j) le temps de trajet en h\n",
    "\n",
    "\n",
    "TimeDict = dict()\n",
    "\n",
    "for element in DistDict.items():\n",
    "    t = element[1] / 50\n",
    "    TimeDict[element[0]] = t\n",
    "\n",
    "print(TimeDict)\n",
    "\n"
   ]
  },
  {
   "cell_type": "markdown",
   "id": "8bcdbd87",
   "metadata": {},
   "source": [
    "## Modules"
   ]
  },
  {
   "cell_type": "code",
   "execution_count": 77,
   "id": "5084398a",
   "metadata": {},
   "outputs": [],
   "source": [
    "# Modules de base\n",
    "import numpy as np\n",
    "import matplotlib.pyplot as plt\n",
    "%matplotlib inline\n",
    "from matplotlib.ticker import MultipleLocator, FormatStrFormatter\n",
    "\n",
    "# Module relatif à Gurobi\n",
    "from gurobipy import *"
   ]
  },
  {
   "cell_type": "markdown",
   "id": "bacd282b",
   "metadata": {},
   "source": [
    "## Données"
   ]
  },
  {
   "cell_type": "code",
   "execution_count": 78,
   "id": "61a16c13",
   "metadata": {},
   "outputs": [],
   "source": [
    "# number_of_employees : int\n",
    "N=len(Employees)\n",
    "\n",
    "# number_of_tasks : int\n",
    "K=len(Tasks)\n",
    "\n",
    "# number_of_unavailabilities : int\n",
    "L=len(Unavailability)\n",
    "\n"
   ]
  },
  {
   "cell_type": "markdown",
   "id": "4a2c7502",
   "metadata": {},
   "source": [
    "## Variables"
   ]
  },
  {
   "cell_type": "code",
   "execution_count": 79,
   "id": "eecede9a",
   "metadata": {},
   "outputs": [],
   "source": [
    "# -- Initialisation du modèle --\n",
    "# m : Model\n",
    "m = Model(\"ProjetST7\")\n",
    "\n",
    "# -- Ajout des variables  --\n",
    "# X: dict[(int, int) : Var]\n",
    "X = {(i,j) : m.addVar(vtype = GRB.BINARY, name = f'employeetask{i}_{j}') for i in range(1, N+1) for j in range(1,K+L+2*N+1)}\n",
    "\n",
    "# T : dict[int : Var]\n",
    "T = {(j) : m.addVar(vtype = GRB.CONTINUOUS, name=f'begintask_{j}') for j in range(1, K+L+2*N+1)}\n",
    "\n",
    "# Y: dict[(int, int) : Var]\n",
    "Y = {(i,j) : m.addVar(vtype = GRB.BINARY, name = f'successivetask{i}_{j}') for i in range(1, K+L+2*N+1) for j in range(1,K+L+2*N+1)}"
   ]
  },
  {
   "cell_type": "markdown",
   "id": "4ad7b9af",
   "metadata": {},
   "source": [
    "## Contraintes"
   ]
  },
  {
   "cell_type": "markdown",
   "id": "647852d5",
   "metadata": {},
   "source": [
    "- Un employé pour une tâche"
   ]
  },
  {
   "cell_type": "code",
   "execution_count": 80,
   "id": "f26114a1",
   "metadata": {},
   "outputs": [],
   "source": [
    "# OneEmployeePerTaskConstrDict : dict[int : Constr]\n",
    "OneEmployeePerTaskConstrDict = {j : m.addConstr(quicksum([X[(i, j)] for i in range(1, N + 1)]) == 1, name = f'one_employee_per_task{j}') for j in range(1, L+K+2*N + 1)}"
   ]
  },
  {
   "cell_type": "markdown",
   "id": "62ca68c0",
   "metadata": {},
   "source": [
    "- Niveau de l'employé suffisant pour la tâche"
   ]
  },
  {
   "cell_type": "code",
   "execution_count": 81,
   "id": "2c17eadc",
   "metadata": {},
   "outputs": [],
   "source": [
    "# MinimumLevelConstrDict : dict[(int,int) : Constr]\n",
    "MinimumLevelConstrDict = {(i,j) : m.addConstr(LevelTask[j]*X[(i,j)] <= LevelEmployee[i]  , name = f'level_{i}_{j}') for i in range(1, N + 1) for j in range(L+1,L+K) }"
   ]
  },
  {
   "cell_type": "markdown",
   "id": "0bdef87c",
   "metadata": {},
   "source": [
    "- Début et fin de chaque tâche"
   ]
  },
  {
   "cell_type": "code",
   "execution_count": 82,
   "id": "67dbac14",
   "metadata": {
    "scrolled": true
   },
   "outputs": [],
   "source": [
    "# StartConstrDict : dict[(int,int) : Constr]\n",
    "StartConstrDict = {j : m.addConstr(T[j] >= BeginningTask[j], name = f'start_{j}') for j in range(1,K+L+2*N+1) }\n",
    "EndConstrDict = {j : m.addConstr(T[j]+DurationTask[j]<=EndTask[j], name = f'end_{j}') for j in range(1,K+L+2*N+1) }"
   ]
  },
  {
   "cell_type": "markdown",
   "id": "4369b851",
   "metadata": {},
   "source": [
    "- Délai entre 2 tâches successives"
   ]
  },
  {
   "cell_type": "code",
   "execution_count": 109,
   "id": "72dca977",
   "metadata": {},
   "outputs": [],
   "source": [
    "M=10000\n",
    "#SuccessiveTasksGapConstrDict = {(i,j) : m.addConstr(Y[(i,j)]*(DurationTask[i]+TimeDict[(i,j)])+(1-Y[(i,j)])*(-M)<=T[j]-T[i] , name = f'successivetaksgap_{i}_{j}') for i in range(1, K+L+2*N + 1) for j in range(1,K+L+2*N+1) if i!=j }\n",
    "SuccessiveTasksGapConstrDict = {(i,j) : m.addConstr(Y[(i,j)]*(DurationTask[i]+TimeDict[(i,j)])+(1-Y[(i,j)])*(-M)-(T[j]-T[i]) <= 0 , name = f'successivetaksgap_{i}_{j}') for i in range(1, K+L+2*N+1) for j in range(1,K+L+2*N+1) if (i,j)  in DistDict.keys() }\n"
   ]
  },
  {
   "cell_type": "markdown",
   "id": "8d8900cc",
   "metadata": {},
   "source": [
    "- Une seule tâche succède à une autre"
   ]
  },
  {
   "cell_type": "code",
   "execution_count": 110,
   "id": "5f2af84a",
   "metadata": {},
   "outputs": [],
   "source": [
    "OneTaskAfterAnother1ConstrDict = {j : m.addConstr(quicksum(Y[(k,j)] for k in range(1,K+L+2*N))==1, name = f'OneTaskAfterAnother1_{j}') for j in range(2,K+L+2*N+1) }\n",
    "OneTaskAfterAnother2ConstrDict = {j : m.addConstr(quicksum(Y[(j,k)] for k in range(2,K+L+2*N+1))==1, name = f'OneTaskAfterAnother2_{j}') for j in range(1,K+L+2*N) }\n",
    "OneTaskAfterAnother3ConstrDict = {j : m.addConstr(quicksum(Y[(j,k)] for k in range(2,K+L+2*N+1))==quicksum(Y[(k,j)] for k in range(1,K+L+2*N)), name = f'OneTaskAfterAnother3_{j}') for j in range(2,K+L+2*N) }\n"
   ]
  },
  {
   "cell_type": "markdown",
   "id": "e52eeea4",
   "metadata": {},
   "source": [
    "- Si deux tâches sont successives il existe k tel que ces tâches sont effectuées par le même employé"
   ]
  },
  {
   "cell_type": "code",
   "execution_count": 111,
   "id": "d11105a8",
   "metadata": {},
   "outputs": [],
   "source": [
    "SuccessiveTasksOneEmployee1ConstrDict = {(i,j,k) : m.addConstr(1-Y[(i,j)]>=X[(k,i)]-X[(k,j)] , name = f'successivetaksoneemployee1_{i}_{j}_{k}') for i in range(L+1, K+L+2*N + 1) for j in range(L+1,K+L+2*N+1) for k in range(1,N+1) }\n",
    "SuccessiveTasksOneEmployee2ConstrDict = {(i,j,k) : m.addConstr(1-Y[(i,j)]>=-(X[(k,i)]-X[(k,j)]) , name = f'successivetaksoneemployee2_{i}_{j}_{k}') for i in range(L+1, K+L+2*N + 1) for j in range(L+1,K+L+2*N+1) for k in range(1,N+1) }\n",
    "#SuccessiveTasksOneEmployee3ConstrDict = {(i,j,k) : m.addConstr(1-Y[(i,j)]>=-(X[(k,i)]-X[(k,j)]) , name = f'successivetaksoneemployee3_{i}_{j}_{k}') for i in range(1, L+1) for j in range(1,L+1) for k in range(1,N+1) }"
   ]
  },
  {
   "cell_type": "markdown",
   "id": "96cbd7e4",
   "metadata": {},
   "source": [
    "## Fonction Objectif"
   ]
  },
  {
   "cell_type": "code",
   "execution_count": 112,
   "id": "dc61883c",
   "metadata": {},
   "outputs": [],
   "source": [
    "# -- Ajout de la fonction objectif --\n",
    "m.setObjective(quicksum(Y[(i,j)]*TimeDict[(i,j)] for i in range (1,K+L+2*N+1) for j in range (1,K+L+2*N+1) if (i,j)  in DistDict.keys() ), GRB.MINIMIZE)"
   ]
  },
  {
   "cell_type": "code",
   "execution_count": 119,
   "id": "717bc808",
   "metadata": {},
   "outputs": [
    {
     "name": "stdout",
     "output_type": "stream",
     "text": [
      "1\n"
     ]
    },
    {
     "ename": "GurobiError",
     "evalue": "Model too large for size-limited license; visit https://www.gurobi.com/free-trial for a full license",
     "output_type": "error",
     "traceback": [
      "\u001b[1;31m---------------------------------------------------------------------------\u001b[0m",
      "\u001b[1;31mGurobiError\u001b[0m                               Traceback (most recent call last)",
      "Input \u001b[1;32mIn [119]\u001b[0m, in \u001b[0;36m<cell line: 9>\u001b[1;34m()\u001b[0m\n\u001b[0;32m      7\u001b[0m \u001b[38;5;28mprint\u001b[39m(m\u001b[38;5;241m.\u001b[39mstatus)\n\u001b[0;32m      8\u001b[0m \u001b[38;5;66;03m# -- Résolution --\u001b[39;00m\n\u001b[1;32m----> 9\u001b[0m \u001b[43mm\u001b[49m\u001b[38;5;241;43m.\u001b[39;49m\u001b[43moptimize\u001b[49m\u001b[43m(\u001b[49m\u001b[43m)\u001b[49m\n",
      "File \u001b[1;32msrc\\gurobipy\\model.pxi:875\u001b[0m, in \u001b[0;36mgurobipy.Model.optimize\u001b[1;34m()\u001b[0m\n",
      "\u001b[1;31mGurobiError\u001b[0m: Model too large for size-limited license; visit https://www.gurobi.com/free-trial for a full license"
     ]
    }
   ],
   "source": [
    "# -- Choix d'un paramétrage d'affichage minimaliste --\n",
    "m.params.outputflag = 0 # mode muet\n",
    "\n",
    "# -- Mise à jour du modèle  --\n",
    "m.update()\n",
    "\n",
    "print(m.status)\n",
    "# -- Résolution --\n",
    "m.optimize()\n",
    "\n"
   ]
  },
  {
   "cell_type": "code",
   "execution_count": 114,
   "id": "646fb142",
   "metadata": {},
   "outputs": [
    {
     "ename": "AttributeError",
     "evalue": "Unable to retrieve attribute 'ObjVal'",
     "output_type": "error",
     "traceback": [
      "\u001b[1;31m---------------------------------------------------------------------------\u001b[0m",
      "\u001b[1;31mAttributeError\u001b[0m                            Traceback (most recent call last)",
      "Input \u001b[1;32mIn [114]\u001b[0m, in \u001b[0;36m<cell line: 1>\u001b[1;34m()\u001b[0m\n\u001b[1;32m----> 1\u001b[0m \u001b[38;5;28mprint\u001b[39m(\u001b[43mm\u001b[49m\u001b[38;5;241;43m.\u001b[39;49m\u001b[43mObjVal\u001b[49m)\n",
      "File \u001b[1;32msrc\\gurobipy\\model.pxi:354\u001b[0m, in \u001b[0;36mgurobipy.Model.__getattr__\u001b[1;34m()\u001b[0m\n",
      "File \u001b[1;32msrc\\gurobipy\\model.pxi:1918\u001b[0m, in \u001b[0;36mgurobipy.Model.getAttr\u001b[1;34m()\u001b[0m\n",
      "File \u001b[1;32msrc\\gurobipy\\attrutil.pxi:100\u001b[0m, in \u001b[0;36mgurobipy.__getattr\u001b[1;34m()\u001b[0m\n",
      "\u001b[1;31mAttributeError\u001b[0m: Unable to retrieve attribute 'ObjVal'"
     ]
    }
   ],
   "source": [
    "print(m.ObjVal)"
   ]
  },
  {
   "cell_type": "code",
   "execution_count": 115,
   "id": "e7a6ac70",
   "metadata": {},
   "outputs": [
    {
     "name": "stdout",
     "output_type": "stream",
     "text": [
      "{(1, 1): <gurobi.Var employeetask1_1>, (1, 2): <gurobi.Var employeetask1_2>, (1, 3): <gurobi.Var employeetask1_3>, (1, 4): <gurobi.Var employeetask1_4>, (1, 5): <gurobi.Var employeetask1_5>, (1, 6): <gurobi.Var employeetask1_6>, (1, 7): <gurobi.Var employeetask1_7>, (1, 8): <gurobi.Var employeetask1_8>, (1, 9): <gurobi.Var employeetask1_9>, (1, 10): <gurobi.Var employeetask1_10>, (1, 11): <gurobi.Var employeetask1_11>, (1, 12): <gurobi.Var employeetask1_12>, (1, 13): <gurobi.Var employeetask1_13>, (1, 14): <gurobi.Var employeetask1_14>, (2, 1): <gurobi.Var employeetask2_1>, (2, 2): <gurobi.Var employeetask2_2>, (2, 3): <gurobi.Var employeetask2_3>, (2, 4): <gurobi.Var employeetask2_4>, (2, 5): <gurobi.Var employeetask2_5>, (2, 6): <gurobi.Var employeetask2_6>, (2, 7): <gurobi.Var employeetask2_7>, (2, 8): <gurobi.Var employeetask2_8>, (2, 9): <gurobi.Var employeetask2_9>, (2, 10): <gurobi.Var employeetask2_10>, (2, 11): <gurobi.Var employeetask2_11>, (2, 12): <gurobi.Var employeetask2_12>, (2, 13): <gurobi.Var employeetask2_13>, (2, 14): <gurobi.Var employeetask2_14>}\n"
     ]
    }
   ],
   "source": [
    "print(X)"
   ]
  },
  {
   "cell_type": "code",
   "execution_count": 116,
   "id": "195c7c0b",
   "metadata": {},
   "outputs": [
    {
     "name": "stdout",
     "output_type": "stream",
     "text": [
      "{(1, 1): <gurobi.Var successivetask1_1>, (1, 2): <gurobi.Var successivetask1_2>, (1, 3): <gurobi.Var successivetask1_3>, (1, 4): <gurobi.Var successivetask1_4>, (1, 5): <gurobi.Var successivetask1_5>, (1, 6): <gurobi.Var successivetask1_6>, (1, 7): <gurobi.Var successivetask1_7>, (1, 8): <gurobi.Var successivetask1_8>, (1, 9): <gurobi.Var successivetask1_9>, (1, 10): <gurobi.Var successivetask1_10>, (1, 11): <gurobi.Var successivetask1_11>, (1, 12): <gurobi.Var successivetask1_12>, (1, 13): <gurobi.Var successivetask1_13>, (1, 14): <gurobi.Var successivetask1_14>, (2, 1): <gurobi.Var successivetask2_1>, (2, 2): <gurobi.Var successivetask2_2>, (2, 3): <gurobi.Var successivetask2_3>, (2, 4): <gurobi.Var successivetask2_4>, (2, 5): <gurobi.Var successivetask2_5>, (2, 6): <gurobi.Var successivetask2_6>, (2, 7): <gurobi.Var successivetask2_7>, (2, 8): <gurobi.Var successivetask2_8>, (2, 9): <gurobi.Var successivetask2_9>, (2, 10): <gurobi.Var successivetask2_10>, (2, 11): <gurobi.Var successivetask2_11>, (2, 12): <gurobi.Var successivetask2_12>, (2, 13): <gurobi.Var successivetask2_13>, (2, 14): <gurobi.Var successivetask2_14>, (3, 1): <gurobi.Var successivetask3_1>, (3, 2): <gurobi.Var successivetask3_2>, (3, 3): <gurobi.Var successivetask3_3>, (3, 4): <gurobi.Var successivetask3_4>, (3, 5): <gurobi.Var successivetask3_5>, (3, 6): <gurobi.Var successivetask3_6>, (3, 7): <gurobi.Var successivetask3_7>, (3, 8): <gurobi.Var successivetask3_8>, (3, 9): <gurobi.Var successivetask3_9>, (3, 10): <gurobi.Var successivetask3_10>, (3, 11): <gurobi.Var successivetask3_11>, (3, 12): <gurobi.Var successivetask3_12>, (3, 13): <gurobi.Var successivetask3_13>, (3, 14): <gurobi.Var successivetask3_14>, (4, 1): <gurobi.Var successivetask4_1>, (4, 2): <gurobi.Var successivetask4_2>, (4, 3): <gurobi.Var successivetask4_3>, (4, 4): <gurobi.Var successivetask4_4>, (4, 5): <gurobi.Var successivetask4_5>, (4, 6): <gurobi.Var successivetask4_6>, (4, 7): <gurobi.Var successivetask4_7>, (4, 8): <gurobi.Var successivetask4_8>, (4, 9): <gurobi.Var successivetask4_9>, (4, 10): <gurobi.Var successivetask4_10>, (4, 11): <gurobi.Var successivetask4_11>, (4, 12): <gurobi.Var successivetask4_12>, (4, 13): <gurobi.Var successivetask4_13>, (4, 14): <gurobi.Var successivetask4_14>, (5, 1): <gurobi.Var successivetask5_1>, (5, 2): <gurobi.Var successivetask5_2>, (5, 3): <gurobi.Var successivetask5_3>, (5, 4): <gurobi.Var successivetask5_4>, (5, 5): <gurobi.Var successivetask5_5>, (5, 6): <gurobi.Var successivetask5_6>, (5, 7): <gurobi.Var successivetask5_7>, (5, 8): <gurobi.Var successivetask5_8>, (5, 9): <gurobi.Var successivetask5_9>, (5, 10): <gurobi.Var successivetask5_10>, (5, 11): <gurobi.Var successivetask5_11>, (5, 12): <gurobi.Var successivetask5_12>, (5, 13): <gurobi.Var successivetask5_13>, (5, 14): <gurobi.Var successivetask5_14>, (6, 1): <gurobi.Var successivetask6_1>, (6, 2): <gurobi.Var successivetask6_2>, (6, 3): <gurobi.Var successivetask6_3>, (6, 4): <gurobi.Var successivetask6_4>, (6, 5): <gurobi.Var successivetask6_5>, (6, 6): <gurobi.Var successivetask6_6>, (6, 7): <gurobi.Var successivetask6_7>, (6, 8): <gurobi.Var successivetask6_8>, (6, 9): <gurobi.Var successivetask6_9>, (6, 10): <gurobi.Var successivetask6_10>, (6, 11): <gurobi.Var successivetask6_11>, (6, 12): <gurobi.Var successivetask6_12>, (6, 13): <gurobi.Var successivetask6_13>, (6, 14): <gurobi.Var successivetask6_14>, (7, 1): <gurobi.Var successivetask7_1>, (7, 2): <gurobi.Var successivetask7_2>, (7, 3): <gurobi.Var successivetask7_3>, (7, 4): <gurobi.Var successivetask7_4>, (7, 5): <gurobi.Var successivetask7_5>, (7, 6): <gurobi.Var successivetask7_6>, (7, 7): <gurobi.Var successivetask7_7>, (7, 8): <gurobi.Var successivetask7_8>, (7, 9): <gurobi.Var successivetask7_9>, (7, 10): <gurobi.Var successivetask7_10>, (7, 11): <gurobi.Var successivetask7_11>, (7, 12): <gurobi.Var successivetask7_12>, (7, 13): <gurobi.Var successivetask7_13>, (7, 14): <gurobi.Var successivetask7_14>, (8, 1): <gurobi.Var successivetask8_1>, (8, 2): <gurobi.Var successivetask8_2>, (8, 3): <gurobi.Var successivetask8_3>, (8, 4): <gurobi.Var successivetask8_4>, (8, 5): <gurobi.Var successivetask8_5>, (8, 6): <gurobi.Var successivetask8_6>, (8, 7): <gurobi.Var successivetask8_7>, (8, 8): <gurobi.Var successivetask8_8>, (8, 9): <gurobi.Var successivetask8_9>, (8, 10): <gurobi.Var successivetask8_10>, (8, 11): <gurobi.Var successivetask8_11>, (8, 12): <gurobi.Var successivetask8_12>, (8, 13): <gurobi.Var successivetask8_13>, (8, 14): <gurobi.Var successivetask8_14>, (9, 1): <gurobi.Var successivetask9_1>, (9, 2): <gurobi.Var successivetask9_2>, (9, 3): <gurobi.Var successivetask9_3>, (9, 4): <gurobi.Var successivetask9_4>, (9, 5): <gurobi.Var successivetask9_5>, (9, 6): <gurobi.Var successivetask9_6>, (9, 7): <gurobi.Var successivetask9_7>, (9, 8): <gurobi.Var successivetask9_8>, (9, 9): <gurobi.Var successivetask9_9>, (9, 10): <gurobi.Var successivetask9_10>, (9, 11): <gurobi.Var successivetask9_11>, (9, 12): <gurobi.Var successivetask9_12>, (9, 13): <gurobi.Var successivetask9_13>, (9, 14): <gurobi.Var successivetask9_14>, (10, 1): <gurobi.Var successivetask10_1>, (10, 2): <gurobi.Var successivetask10_2>, (10, 3): <gurobi.Var successivetask10_3>, (10, 4): <gurobi.Var successivetask10_4>, (10, 5): <gurobi.Var successivetask10_5>, (10, 6): <gurobi.Var successivetask10_6>, (10, 7): <gurobi.Var successivetask10_7>, (10, 8): <gurobi.Var successivetask10_8>, (10, 9): <gurobi.Var successivetask10_9>, (10, 10): <gurobi.Var successivetask10_10>, (10, 11): <gurobi.Var successivetask10_11>, (10, 12): <gurobi.Var successivetask10_12>, (10, 13): <gurobi.Var successivetask10_13>, (10, 14): <gurobi.Var successivetask10_14>, (11, 1): <gurobi.Var successivetask11_1>, (11, 2): <gurobi.Var successivetask11_2>, (11, 3): <gurobi.Var successivetask11_3>, (11, 4): <gurobi.Var successivetask11_4>, (11, 5): <gurobi.Var successivetask11_5>, (11, 6): <gurobi.Var successivetask11_6>, (11, 7): <gurobi.Var successivetask11_7>, (11, 8): <gurobi.Var successivetask11_8>, (11, 9): <gurobi.Var successivetask11_9>, (11, 10): <gurobi.Var successivetask11_10>, (11, 11): <gurobi.Var successivetask11_11>, (11, 12): <gurobi.Var successivetask11_12>, (11, 13): <gurobi.Var successivetask11_13>, (11, 14): <gurobi.Var successivetask11_14>, (12, 1): <gurobi.Var successivetask12_1>, (12, 2): <gurobi.Var successivetask12_2>, (12, 3): <gurobi.Var successivetask12_3>, (12, 4): <gurobi.Var successivetask12_4>, (12, 5): <gurobi.Var successivetask12_5>, (12, 6): <gurobi.Var successivetask12_6>, (12, 7): <gurobi.Var successivetask12_7>, (12, 8): <gurobi.Var successivetask12_8>, (12, 9): <gurobi.Var successivetask12_9>, (12, 10): <gurobi.Var successivetask12_10>, (12, 11): <gurobi.Var successivetask12_11>, (12, 12): <gurobi.Var successivetask12_12>, (12, 13): <gurobi.Var successivetask12_13>, (12, 14): <gurobi.Var successivetask12_14>, (13, 1): <gurobi.Var successivetask13_1>, (13, 2): <gurobi.Var successivetask13_2>, (13, 3): <gurobi.Var successivetask13_3>, (13, 4): <gurobi.Var successivetask13_4>, (13, 5): <gurobi.Var successivetask13_5>, (13, 6): <gurobi.Var successivetask13_6>, (13, 7): <gurobi.Var successivetask13_7>, (13, 8): <gurobi.Var successivetask13_8>, (13, 9): <gurobi.Var successivetask13_9>, (13, 10): <gurobi.Var successivetask13_10>, (13, 11): <gurobi.Var successivetask13_11>, (13, 12): <gurobi.Var successivetask13_12>, (13, 13): <gurobi.Var successivetask13_13>, (13, 14): <gurobi.Var successivetask13_14>, (14, 1): <gurobi.Var successivetask14_1>, (14, 2): <gurobi.Var successivetask14_2>, (14, 3): <gurobi.Var successivetask14_3>, (14, 4): <gurobi.Var successivetask14_4>, (14, 5): <gurobi.Var successivetask14_5>, (14, 6): <gurobi.Var successivetask14_6>, (14, 7): <gurobi.Var successivetask14_7>, (14, 8): <gurobi.Var successivetask14_8>, (14, 9): <gurobi.Var successivetask14_9>, (14, 10): <gurobi.Var successivetask14_10>, (14, 11): <gurobi.Var successivetask14_11>, (14, 12): <gurobi.Var successivetask14_12>, (14, 13): <gurobi.Var successivetask14_13>, (14, 14): <gurobi.Var successivetask14_14>}\n"
     ]
    }
   ],
   "source": [
    "print(Y)"
   ]
  },
  {
   "cell_type": "code",
   "execution_count": 117,
   "id": "25869f7f",
   "metadata": {},
   "outputs": [
    {
     "name": "stdout",
     "output_type": "stream",
     "text": [
      "{1: <gurobi.Var begintask_1>, 2: <gurobi.Var begintask_2>, 3: <gurobi.Var begintask_3>, 4: <gurobi.Var begintask_4>, 5: <gurobi.Var begintask_5>, 6: <gurobi.Var begintask_6>, 7: <gurobi.Var begintask_7>, 8: <gurobi.Var begintask_8>, 9: <gurobi.Var begintask_9>, 10: <gurobi.Var begintask_10>, 11: <gurobi.Var begintask_11>, 12: <gurobi.Var begintask_12>, 13: <gurobi.Var begintask_13>, 14: <gurobi.Var begintask_14>}\n"
     ]
    }
   ],
   "source": [
    "print(T)"
   ]
  },
  {
   "cell_type": "code",
   "execution_count": null,
   "id": "c7299a08",
   "metadata": {},
   "outputs": [],
   "source": []
  }
 ],
 "metadata": {
  "kernelspec": {
   "display_name": "Python 3 (ipykernel)",
   "language": "python",
   "name": "python3"
  },
  "language_info": {
   "codemirror_mode": {
    "name": "ipython",
    "version": 3
   },
   "file_extension": ".py",
   "mimetype": "text/x-python",
   "name": "python",
   "nbconvert_exporter": "python",
   "pygments_lexer": "ipython3",
   "version": "3.9.12"
  }
 },
 "nbformat": 4,
 "nbformat_minor": 5
}

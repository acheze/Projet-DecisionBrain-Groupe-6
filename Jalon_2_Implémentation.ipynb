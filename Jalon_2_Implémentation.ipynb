{
 "cells": [
  {
   "cell_type": "code",
   "execution_count": 391,
   "id": "dfcc1310",
   "metadata": {},
   "outputs": [],
   "source": [
    "# Modules de base\n",
    "import numpy as np\n",
    "import matplotlib.pyplot as plt\n",
    "%matplotlib inline\n",
    "import pandas as pd \n",
    "\n",
    "# Module relatif à Gurobi\n",
    "from gurobipy import *\n",
    "\n",
    "# Module csv\n",
    "import csv"
   ]
  },
  {
   "cell_type": "markdown",
   "id": "56b294cf",
   "metadata": {},
   "source": [
    "## Importation des données"
   ]
  },
  {
   "cell_type": "code",
   "execution_count": 392,
   "id": "7429f5a2",
   "metadata": {},
   "outputs": [],
   "source": [
    "# Instance_file : str\n",
    "Instance_file = \"InstanceBordeauxV1.xlsx\"\n",
    "\n",
    "# Chargement des donnees\n",
    "Employees = pd.read_excel(Instance_file, sheet_name= 'Employees')\n",
    "Tasks = pd.read_excel(Instance_file, sheet_name= 'Tasks')\n",
    "Employees_Unavailabilities = pd.read_excel(Instance_file, sheet_name= 'Employees Unavailabilities')\n",
    "Tasks_Unavailabilities = pd.read_excel(Instance_file, sheet_name= 'Tasks Unavailabilities')\n",
    "\n",
    "#print(Employees)\n",
    "#print(Tasks)\n",
    "#print(Employees_Unavailabilities)"
   ]
  },
  {
   "cell_type": "markdown",
   "id": "f15b5191",
   "metadata": {},
   "source": [
    "## Création des dictionnaires de paramètres"
   ]
  },
  {
   "cell_type": "markdown",
   "id": "fa0885b9",
   "metadata": {},
   "source": [
    "Listes des dictionnaires de paramètres à créer:\n",
    "- LevelEmployee[i] qui à un employé i lui associe son niveau de compétence\n",
    "- BeginningEmployee[i] qui à un employé i lui associe son début de journée de travail\n",
    "- EndEmployee[i] qui à un employé i lui associe sa fin de journée de travail\n",
    "- LevelTask[j] qui à une tâche j lui associe son niveau de difficulté\n",
    "- BeginningTask[j] qui à une tâche j lui aussi le début du créneau durant lequel on peut l'effectuer\n",
    "- EndTask[j] qui à une tâche j lui aussi la fin du créneau durant lequel on peut l'effectuer\n",
    "- DurationTask[j] qui à une tâche j lui associe sa durée\n",
    "- TasksUnavailabilities[j]\n",
    "- DistDict[i][j] dictionnaire contenant les distances entre toutes les tâches et les domiciles des employées\n",
    "- TimeDict[i][j] dictionnaire contenant les temps de trajet associés\n",
    "- Unavailability[l]: recense les indisponibilités sous forme (employe, debutindispo, duree)"
   ]
  },
  {
   "cell_type": "code",
   "execution_count": 393,
   "id": "ce3f547a",
   "metadata": {},
   "outputs": [
    {
     "name": "stdout",
     "output_type": "stream",
     "text": [
      "{1: 1.0, 2: 1.0, 3: 1.0, 4: 1.0, 5: 1.0, 6: 1.0, 7: 1.0, 8: 1.0, 9: 1.0, 10: 1.25, 11: 1.0, 12: 0, 14: 0, 13: 0, 15: 0}\n",
      "{(1, 1): 0.0, (1, 2): 0.7068321738920618, (1, 3): 0.48266735050330567, (1, 4): 0.8723917596527174, (1, 5): 1.145970289462423, (1, 6): 0.6443522169870193, (1, 7): 0.9968653693713762, (1, 8): 1.504648883887421, (1, 9): 0.6363339980999713, (1, 10): 1.2688136407746944, (1, 11): 0.7582880833272797, (1, 12): 0.9142734350423755, (1, 13): 1.018371332643951, (1, 14): 0.9142734350423755, (1, 15): 1.018371332643951, (2, 1): 0.7068321738920618, (2, 2): 0.0, (2, 3): 1.0217165126372043, (2, 4): 1.4614402548607615, (2, 5): 1.7287379164063463, (2, 6): 1.2170045168101324, (2, 7): 1.5802896694770947, (2, 8): 2.1298880486390215, (2, 9): 1.2926838792504105, (2, 10): 1.90418311153199, (2, 11): 1.3973216507616857, (2, 12): 1.541753427708023, (2, 13): 1.6347694715665246, (2, 14): 1.541753427708023, (2, 15): 1.6347694715665246, (3, 1): 0.48266735050330567, (3, 2): 1.0217165126372043, (3, 3): 0.0, (3, 4): 0.4397289075591224, (3, 5): 0.7089972454352003, (3, 6): 0.19541368070280252, (3, 7): 0.559462489108554, (3, 8): 1.1092498464708107, (3, 9): 0.3361191598312767, (3, 10): 0.8878647675886318, (3, 11): 0.40082829442049445, (3, 12): 0.5285015558568005, (3, 13): 0.61535240432651, (3, 14): 0.5285015558568005, (3, 15): 0.61535240432651, (4, 1): 0.8723917596527174, (4, 2): 1.4614402548607615, (4, 3): 0.4397289075591224, (4, 4): 0.0, (4, 5): 0.2745584778368015, (4, 6): 0.2445923611948902, (4, 7): 0.12453062237362006, (4, 8): 0.6710122353507368, (4, 9): 0.2919218919113159, (4, 10): 0.45800108125930755, (4, 11): 0.17955801930123272, (4, 12): 0.13864516317146347, (4, 13): 0.18471788051531124, (4, 14): 0.13864516317146347, (4, 15): 0.18471788051531124, (5, 1): 1.145970289462423, (5, 2): 1.7287379164063463, (5, 3): 0.7089972454352003, (5, 4): 0.2745584778368015, (5, 5): 0.0, (5, 6): 0.5160615147910264, (5, 7): 0.1505036458069685, (5, 8): 0.42463121292719586, (5, 9): 0.5395599940495012, (5, 10): 0.26527533180308455, (5, 11): 0.4113070052249611, (5, 12): 0.2646241574760485, (5, 13): 0.16508507626439164, (5, 14): 0.2646241574760485, (5, 15): 0.16508507626439164, (6, 1): 0.6443522169870193, (6, 2): 1.2170045168101324, (6, 3): 0.19541368070280252, (6, 4): 0.2445923611948902, (6, 5): 0.5160615147910264, (6, 6): 0.0, (6, 7): 0.36581809852312924, (6, 8): 0.9139075836864575, (6, 9): 0.22252054718476416, (6, 10): 0.6940131447911202, (6, 11): 0.23113711760200326, (6, 12): 0.33815202220682367, (6, 13): 0.42064787919298374, (6, 14): 0.33815202220682367, (6, 15): 0.42064787919298374, (7, 1): 0.9968653693713762, (7, 2): 1.5802896694770947, (7, 3): 0.559462489108554, (7, 4): 0.12453062237362006, (7, 5): 0.1505036458069685, (7, 6): 0.36581809852312924, (7, 7): 0.0, (7, 8): 0.5596702625433485, (7, 9): 0.4031525113850945, (7, 10): 0.36317634690441414, (7, 11): 0.2790443319433488, (7, 12): 0.16036779998746425, (7, 13): 0.11891510255900618, (7, 14): 0.16036779998746425, (7, 15): 0.11891510255900618, (8, 1): 1.504648883887421, (8, 2): 2.1298880486390215, (8, 3): 1.109249846470811, (8, 4): 0.6710122353507368, (8, 5): 0.42463121292719586, (8, 6): 0.9139075836864575, (8, 7): 0.5596702625433485, (8, 8): 0.0, (8, 9): 0.868979241590528, (8, 10): 0.23778780159466936, (8, 11): 0.7468757237572656, (8, 12): 0.5930967653006399, (8, 13): 0.4953678055580344, (8, 14): 0.5930967653006399, (8, 15): 0.4953678055580344, (9, 1): 0.6363339980999713, (9, 2): 1.2926838792504103, (9, 3): 0.3361191598312767, (9, 4): 0.2919218919113159, (9, 5): 0.5395599940495012, (9, 6): 0.22252054718476416, (9, 7): 0.4031525113850945, (9, 8): 0.868979241590528, (9, 9): 0.0, (9, 10): 0.6325843145147857, (9, 11): 0.12895632589103442, (9, 12): 0.28503669189639935, (9, 13): 0.3923139476660833, (9, 14): 0.28503669189639935, (9, 15): 0.3923139476660833, (10, 1): 1.2688136407746944, (10, 2): 1.90418311153199, (10, 3): 0.8878647675886318, (10, 4): 0.45800108125930755, (10, 5): 0.26527533180308455, (10, 6): 0.6940131447911202, (10, 7): 0.36317634690441414, (10, 8): 0.23778780159466936, (10, 9): 0.6325843145147857, (10, 10): 0.0, (10, 11): 0.5126760325703571, (10, 12): 0.36254063552021065, (10, 13): 0.27422165436213497, (10, 14): 0.36254063552021065, (10, 15): 0.27422165436213497, (11, 1): 0.7582880833272797, (11, 2): 1.3973216507616857, (11, 3): 0.40082829442049445, (11, 4): 0.17955801930123272, (11, 5): 0.4113070052249611, (11, 6): 0.23113711760200326, (11, 7): 0.2790443319433488, (11, 8): 0.7468757237572656, (11, 9): 0.12895632589103442, (11, 10): 0.5126760325703571, (11, 11): 0.0, (11, 12): 0.15711108963984197, (11, 13): 0.2638446817850306, (11, 14): 0.15711108963984197, (11, 15): 0.2638446817850306, (12, 1): 0.9142734350423755, (12, 2): 1.541753427708023, (12, 3): 0.5285015558568005, (12, 4): 0.13864516317146347, (12, 5): 0.2646241574760485, (12, 6): 0.33815202220682367, (12, 7): 0.16036779998746425, (12, 8): 0.5930967653006399, (12, 9): 0.28503669189639935, (12, 10): 0.36254063552021065, (12, 11): 0.15711108963984197, (12, 12): 0.0, (12, 13): 0.10754076721817814, (12, 14): 0.0, (12, 15): 0.10754076721817814, (13, 1): 1.018371332643951, (13, 2): 1.6347694715665246, (13, 3): 0.6153524043265098, (13, 4): 0.18471788051531124, (13, 5): 0.16508507626439164, (13, 6): 0.42064787919298374, (13, 7): 0.11891510255900618, (13, 8): 0.4953678055580344, (13, 9): 0.3923139476660833, (13, 10): 0.27422165436213497, (13, 11): 0.2638446817850306, (13, 12): 0.10754076721817814, (13, 13): 0.0, (13, 14): 0.10754076721817814, (13, 15): 0.0, (14, 1): 0.9142734350423755, (14, 2): 1.541753427708023, (14, 3): 0.5285015558568005, (14, 4): 0.13864516317146347, (14, 5): 0.2646241574760485, (14, 6): 0.33815202220682367, (14, 7): 0.16036779998746425, (14, 8): 0.5930967653006399, (14, 9): 0.28503669189639935, (14, 10): 0.36254063552021065, (14, 11): 0.15711108963984197, (14, 12): 0.0, (14, 13): 0.10754076721817814, (14, 14): 0.0, (14, 15): 0.10754076721817814, (15, 1): 1.018371332643951, (15, 2): 1.6347694715665246, (15, 3): 0.6153524043265098, (15, 4): 0.18471788051531124, (15, 5): 0.16508507626439164, (15, 6): 0.42064787919298374, (15, 7): 0.11891510255900618, (15, 8): 0.4953678055580344, (15, 9): 0.3923139476660833, (15, 10): 0.27422165436213497, (15, 11): 0.2638446817850306, (15, 12): 0.10754076721817814, (15, 13): 0.0, (15, 14): 0.10754076721817814, (15, 15): 0.0}\n"
     ]
    }
   ],
   "source": [
    "#Paramètres\n",
    "N = len(Employees[\"EmployeeName\"])\n",
    "K = len(Tasks[\"TaskId\"])\n",
    "L = len(Employees_Unavailabilities[\"EmployeeName\"])\n",
    "\n",
    "\n",
    "\n",
    "LevelEmployee = dict()\n",
    "\n",
    "for i in range (len(Employees[\"EmployeeName\"])):\n",
    "    a = Employees[\"EmployeeName\"][i]\n",
    "    b = Employees[\"Level\"][i]\n",
    "    LevelEmployee[i+1] = b\n",
    "\n",
    "#print(LevelEmployee)\n",
    "\n",
    "BeginningEmployee = dict()\n",
    "\n",
    "for i in range (len(Employees[\"EmployeeName\"])):\n",
    "    a = Employees[\"EmployeeName\"][i]\n",
    "    b = Employees[\"WorkingStartTime\"][i][:1]\n",
    "    bg = b[:2]   #prend les deux premiers caractères\n",
    "    bd = b[-3:]\n",
    "    if bg[-1:] == \":\":  #cas où l'heure n'a qu'un chiffre\n",
    "        b = int(b[:1]) + int(bd[:2]) *100/60\n",
    "        \n",
    "    if bg[-1:] != \":\":\n",
    "        b = int(b[:2]) + int(bd[-2:]) *100/60\n",
    "\n",
    "    if Employees[\"WorkingStartTime\"][i][-2:] == 'am':\n",
    "        BeginningEmployee[a] = b\n",
    "    if Employees[\"WorkingStartTime\"][i][2:] == \"pm\":\n",
    "        BeginningEmployee[a] = b + 12\n",
    "\n",
    "#print(BeginningEmployee)\n",
    "\n",
    "EndEmployee = dict()\n",
    "\n",
    "for i in range (len(Employees[\"EmployeeName\"])):\n",
    "    a = Employees[\"EmployeeName\"][i]\n",
    "    b = Employees[\"WorkingEndTime\"][i][:1]\n",
    "    bg = b[:2]   #prend les deux premiers caractères\n",
    "    bd = b[-3:]\n",
    "    if bg[-1:] == \":\":  #cas où l'heure n'a qu'un chiffre\n",
    "        b = int(b[:1]) + int(bd[:2]) *100/60\n",
    "        \n",
    "    if bg[-1:] != \":\":\n",
    "        b = int(b[:2]) + int(bd[-2:]) *100/60\n",
    "\n",
    "    if Employees[\"WorkingEndTime\"][i][-2:] == 'am':\n",
    "        EndEmployee[a] = b\n",
    "    if Employees[\"WorkingEndTime\"][i][2:] == \"pm\":\n",
    "        EndEmployee[a] = b + 12\n",
    "\n",
    "#print(EndEmployee)\n",
    "\n",
    "LevelTask = dict()\n",
    "\n",
    "for i in range (len(Tasks[\"TaskId\"])):\n",
    "    a = i+1\n",
    "    b = Tasks[\"Level\"][i]\n",
    "    LevelTask[a] = b\n",
    "\n",
    "#print(LevelTask)\n",
    "\n",
    "TasksUnavailabilities = dict()\n",
    "\n",
    "for i in range (len(Tasks_Unavailabilities[\"TaskId\"])):\n",
    "    a = Tasks_Unavailabilities[\"TaskId\"][i] \n",
    "    b = Tasks_Unavailabilities[\"Start\"][i][:5]\n",
    "    bg = b[:2]   #prend les deux premiers caractères\n",
    "    bd = b[-3:]\n",
    "    if bg[-1:] == \":\":  #cas où l'heure n'a qu'un chiffre\n",
    "        b = int(b[:1]) + int(bd[:2]) *100/60\n",
    "        \n",
    "    if bg[-1:] != \":\":\n",
    "        b = int(b[:2]) + int(bd[-2:]) *100/60\n",
    "        \n",
    "    c = Tasks_Unavailabilities[\"End\"][i][:5]\n",
    "    cg = c[:2]   #prend les deux premiers caractères\n",
    "    cd = c[-3:]\n",
    "    if cg[-1:] == \":\":  #cas où l'heure n'a qu'un chiffre\n",
    "        c = int(c[:1]) + int(cd[:2]) *100/60\n",
    "        \n",
    "    if cg[-1:] != \":\":\n",
    "        c = int(c[:2]) + int(cd[-2:]) *100/60\n",
    "\n",
    "    if Tasks_Unavailabilities[\"Start\"][i][-2:] == 'pm' and b!=12:\n",
    "        b = b + 12\n",
    "    if Tasks_Unavailabilities[\"End\"][i][2:] == \"pm\" and c!=12:\n",
    "        c = c + 12\n",
    "    TasksUnavailabilities[a] = [b,c]\n",
    "\n",
    "#print(TasksUnavailabilities)\n",
    "\n",
    "Unavailability = dict()\n",
    "\n",
    "for i in range (len(Employees_Unavailabilities[\"EmployeeName\"])):\n",
    "    for k in range (len(Employees[\"EmployeeName\"])):\n",
    "        if Employees_Unavailabilities[\"EmployeeName\"][i] == Employees[\"EmployeeName\"][k]:\n",
    "            a = k + 1\n",
    "    b = Employees_Unavailabilities[\"Start\"][i][:5]\n",
    "    bg = b[:2]   #prend les deux premiers caractères\n",
    "    bd = b[-3:]\n",
    "    if bg[-1:] == \":\":  #cas où l'heure n'a qu'un chiffre\n",
    "        b = int(b[:1]) + int(bd[:2]) *100/60\n",
    "        \n",
    "    if bg[-1:] != \":\":\n",
    "        b = int(b[:2]) + int(bd[-2:]) *100/60\n",
    "        \n",
    "    c = Employees_Unavailabilities[\"End\"][i][:5]\n",
    "    cg = c[:2]   #prend les deux premiers caractères\n",
    "    cd = c[-3:]\n",
    "    if cg[-1:] == \":\":  #cas où l'heure n'a qu'un chiffre\n",
    "        c = int(c[:1]) + int(cd[:2]) *100/60\n",
    "        \n",
    "    if cg[-1:] != \":\":\n",
    "        c = int(c[:2]) + int(cd[-2:]) *100/60\n",
    "    if Employees_Unavailabilities[\"Start\"][i][-2:] == 'pm'and b!=12:\n",
    "        b = int(b) + 12\n",
    "    if Employees_Unavailabilities[\"End\"][i][2:] == \"pm\" and c!=12:\n",
    "        c = int(c) + 12 - b\n",
    "    Unavailability[i+1] = [a,b,c]\n",
    "\n",
    "#print(Unavailability)\n",
    "\n",
    "\n",
    "BeginningTask = dict()\n",
    "\n",
    "for i in range(K+L+2*N): \n",
    "    if i < L:\n",
    "        a = Employees_Unavailabilities[\"EmployeeName\"][i]\n",
    "        b = Employees_Unavailabilities[\"Start\"][i][:5]\n",
    "        c = Employees_Unavailabilities[\"Start\"][i] \n",
    "\n",
    "    if i >= L and i < L+K:\n",
    "        a = Tasks[\"TaskId\"][i-L]\n",
    "        b = Tasks[\"OpeningTime\"][i-L][:5]\n",
    "        c = Tasks[\"OpeningTime\"][i-L]\n",
    "    if i >= L+K and i < L+K+N:\n",
    "        a = Employees[\"EmployeeName\"][i-L-K]\n",
    "        b = Employees[\"WorkingStartTime\"][i-L-K][:5]\n",
    "        c = Employees[\"WorkingStartTime\"][i-L-K]\n",
    "    if i >= L+K+N:\n",
    "        a = Employees[\"EmployeeName\"][i-L-K-N]\n",
    "        b = Employees[\"WorkingEndTime\"][i-L-K-N][:5]\n",
    "        c = Employees[\"WorkingEndTime\"][i-L-K-N]\n",
    "\n",
    "    ### conversion sous format decimal 12:30 => 12,5\n",
    "    bg = b[:2]   #prend les deux premiers caractères\n",
    "    bd = b[-3:]\n",
    "    if bg[-1:] == \":\":  #cas où l'heure n'a qu'un chiffre\n",
    "        b = int(b[:1]) + int(bd[:2]) *100/60\n",
    "        \n",
    "    if bg[-1:] != \":\":\n",
    "        b = int(b[:2]) + int(bd[-2:]) *100/60\n",
    "        \n",
    "    if c[-2:] == 'am':\n",
    "        if bg != '12':\n",
    "            #BeginningTask[a] = b\n",
    "            BeginningTask[i+1] = b\n",
    "        else:\n",
    "            BeginningTask[i+1] = b - 12   \n",
    "    if c[-2:] == \"pm\":\n",
    "        if bg != '12':\n",
    "            #BeginningTask[a] = b + 12\n",
    "            BeginningTask[i+1] = b + 12\n",
    "        else:\n",
    "            BeginningTask[i+1] = b\n",
    "\n",
    "\n",
    "#print(BeginningTask)\n",
    "\n",
    "\n",
    "EndTask = dict()\n",
    "\n",
    "for i in range (0,K+L+2*N): \n",
    "    if i < L:\n",
    "        a = Employees_Unavailabilities[\"EmployeeName\"][i]\n",
    "        b = Employees_Unavailabilities[\"End\"][i][:5]\n",
    "        c = Employees_Unavailabilities[\"End\"][i]\n",
    "    if i >= L and i < L+K:\n",
    "        a = Tasks[\"TaskId\"][i-L]\n",
    "        b = Tasks[\"ClosingTime\"][i-L][:5]\n",
    "        c = Tasks[\"ClosingTime\"][i-L]\n",
    "    if i >= L+K and i < L+K+N:\n",
    "        a = Employees[\"EmployeeName\"][i-L-K]\n",
    "        b = Employees[\"WorkingStartTime\"][i-L-K][:5]\n",
    "        c = Employees[\"WorkingStartTime\"][i-L-K]\n",
    "    if i >= L+K+N:\n",
    "        a = Employees[\"EmployeeName\"][i-L-K-N]\n",
    "        b = Employees[\"WorkingEndTime\"][i-L-K-N][:5]\n",
    "        c = Employees[\"WorkingEndTime\"][i-L-K-N]\n",
    "    bg = b[:2]   #prend les deux premiers caractères\n",
    "    bd = b[-3:]\n",
    "    \n",
    "    if bg[-1:] == \":\":  #cas où l'heure n'a qu'un chiffre\n",
    "        b = int(b[:1]) + int(bd[:2]) *100/60\n",
    "        \n",
    "    if bg[-1:] != \":\":\n",
    "        b = int(b[:2]) + int(bd[-2:]) *100/60\n",
    "        \n",
    "    if c[-2:] == 'am':\n",
    "        if bg != '12':\n",
    "            #BeginningTask[a] = b\n",
    "            EndTask[i+1] = b\n",
    "        else:\n",
    "            EndTask[i+1] = b - 12   \n",
    "    if c[-2:] == \"pm\":\n",
    "        if bg != '12':\n",
    "            #EndTask[a] = b + 12\n",
    "            EndTask[i+1] = b + 12\n",
    "        else:\n",
    "            EndTask[i+1] = b\n",
    "\n",
    "#print(EndTask)\n",
    "\n",
    "\n",
    "DurationTask = dict()\n",
    "for i in range (L):\n",
    "    a = i + 1\n",
    "    b = Unavailability[i+1][2]\n",
    "    DurationTask[a] = b\n",
    "for i in range (K):\n",
    "    a = L + i + 1\n",
    "    b = Tasks[\"TaskDuration\"][i] / 60\n",
    "    DurationTask[a] = b\n",
    "\n",
    "for i in range (N):\n",
    "    a = L + K + i + 1\n",
    "    b = 0\n",
    "    DurationTask[a] = b\n",
    "    DurationTask[a+N] = b\n",
    "\n",
    "print(DurationTask)\n",
    "\n",
    "Position = dict()   # contient les positions des tâches indispo\n",
    "\n",
    "for i in range (L+K+2*N):\n",
    "    if i < L:\n",
    "        L_i = Employees_Unavailabilities[\"Longitude\"][i]\n",
    "        l_i = Employees_Unavailabilities[\"Latitude\"][i]\n",
    "    if i >= L and i < L+K:\n",
    "        L_i = Tasks[\"Longitude\"][i-L]\n",
    "        l_i = Tasks[\"Latitude\"][i-L]\n",
    "    if i >= L+K and i < L+K+N:\n",
    "        L_i = Employees[\"Longitude\"][i-L-K]\n",
    "        l_i = Employees[\"Latitude\"][i-L-K]\n",
    "    if i >= L+K+N :\n",
    "        L_i = Employees[\"Longitude\"][i-L-K-N]\n",
    "        l_i = Employees[\"Latitude\"][i-L-K-N]\n",
    "    Position[i+1] = [L_i, l_i]\n",
    "\n",
    "        \n",
    "\n",
    "\n",
    "##Création du dictionnaire des distances\n",
    "#DistDic: associe à (i,j) la distance entre les deux tâches\n",
    "\n",
    "DistDict = dict()\n",
    "R = 6371  #rayon de la Terre\n",
    "\n",
    "for i in range (1,L+K+2*N+1):               ## ajout des distances entre tasks\n",
    "    for k in range (1,L+K+2*N+1):\n",
    "            L_i = Position[i][0]\n",
    "            l_i = Position[i][1]\n",
    "            L_k = Position[k][0]\n",
    "            l_k = Position[k][1]\n",
    "            A = np.sin((l_i-l_k)*np.pi/(2*180))**2\n",
    "            B = (np.sin((L_i-L_k)*np.pi/(2*180))**2)*np.cos(l_i*np.pi/180)*np.cos(l_k*np.pi/180)\n",
    "            d = 2*R*np.sqrt(A+B)\n",
    "            DistDict[(i,k)] = d\n",
    "\n",
    "\n",
    "#print(DistDict)\n",
    "\n",
    "##Création dictionnaire des temps de trajet\n",
    "\n",
    "# TimeDict : associe à un trajet (i,j) le temps de trajet en h\n",
    "\n",
    "\n",
    "TimeDict = dict()\n",
    "\n",
    "for element in DistDict.items():\n",
    "    t = element[1] / 50\n",
    "    TimeDict[element[0]] = t\n",
    "\n",
    "print(TimeDict)\n"
   ]
  },
  {
   "cell_type": "markdown",
   "id": "8bcdbd87",
   "metadata": {},
   "source": [
    "## Modules"
   ]
  },
  {
   "cell_type": "code",
   "execution_count": 394,
   "id": "5084398a",
   "metadata": {},
   "outputs": [],
   "source": [
    "# Modules de base\n",
    "import numpy as np\n",
    "import matplotlib.pyplot as plt\n",
    "%matplotlib inline\n",
    "from matplotlib.ticker import MultipleLocator, FormatStrFormatter\n",
    "\n",
    "# Module relatif à Gurobi\n",
    "from gurobipy import *"
   ]
  },
  {
   "cell_type": "markdown",
   "id": "bacd282b",
   "metadata": {},
   "source": [
    "## Données"
   ]
  },
  {
   "cell_type": "code",
   "execution_count": 395,
   "id": "61a16c13",
   "metadata": {},
   "outputs": [],
   "source": [
    "# number_of_employees : int\n",
    "N=len(Employees)\n",
    "\n",
    "# number_of_tasks : int\n",
    "K=len(Tasks)\n",
    "\n",
    "# number_of_unavailabilities : int\n",
    "L=len(Unavailability)\n",
    "\n"
   ]
  },
  {
   "cell_type": "markdown",
   "id": "4a2c7502",
   "metadata": {},
   "source": [
    "## Variables"
   ]
  },
  {
   "cell_type": "code",
   "execution_count": 396,
   "id": "eecede9a",
   "metadata": {},
   "outputs": [],
   "source": [
    "# -- Initialisation du modèle --\n",
    "# m : Model\n",
    "m = Model(\"ProjetST7\")\n",
    "\n",
    "# -- Ajout des variables  --\n",
    "# X: dict[(int, int) : Var]\n",
    "X = {(i,j) : m.addVar(vtype = GRB.BINARY, name = f'employeetask{i}_{j}') for i in range(1, N+1) for j in range(1,K+L+2*N+1)}\n",
    "\n",
    "# T : dict[int : Var]\n",
    "T = {(j) : m.addVar(vtype = GRB.CONTINUOUS, name=f'begintask_{j}') for j in range(1, K+L+2*N+1)}\n",
    "\n",
    "# Y: dict[(int, int) : Var]\n",
    "Y = {(i,j) : m.addVar(vtype = GRB.BINARY, name = f'successivetask{i}_{j}') for i in range(1, K+L+2*N+1) for j in range(1,K+L+2*N+1)}"
   ]
  },
  {
   "cell_type": "markdown",
   "id": "4ad7b9af",
   "metadata": {},
   "source": [
    "## Contraintes"
   ]
  },
  {
   "cell_type": "markdown",
   "id": "647852d5",
   "metadata": {},
   "source": [
    "- Un employé pour une tâche"
   ]
  },
  {
   "cell_type": "code",
   "execution_count": 397,
   "id": "f26114a1",
   "metadata": {},
   "outputs": [],
   "source": [
    "# OneEmployeePerTaskConstrDict : dict[int : Constr]\n",
    "OneEmployeePerTaskConstrDict = {j : m.addConstr(quicksum([X[(i, j)] for i in range(1, N + 1)]) == 1, name = f'one_employee_per_task{j}') for j in range(1, L+K+2*N + 1)}"
   ]
  },
  {
   "cell_type": "markdown",
   "id": "62ca68c0",
   "metadata": {},
   "source": [
    "- Niveau de l'employé suffisant pour la tâche"
   ]
  },
  {
   "cell_type": "code",
   "execution_count": 398,
   "id": "2c17eadc",
   "metadata": {},
   "outputs": [],
   "source": [
    "# MinimumLevelConstrDict : dict[(int,int) : Constr]\n",
    "MinimumLevelConstrDict = {(i,j) : m.addConstr(LevelTask[j]*X[(i,j+L)] <= LevelEmployee[i]  , name = f'level_{i}_{j}') for i in range(1, N + 1) for j in range(1,K+1) }"
   ]
  },
  {
   "cell_type": "markdown",
   "id": "0bdef87c",
   "metadata": {},
   "source": [
    "- Début et fin de chaque tâche"
   ]
  },
  {
   "cell_type": "code",
   "execution_count": 399,
   "id": "67dbac14",
   "metadata": {
    "scrolled": true
   },
   "outputs": [],
   "source": [
    "# StartConstrDict : dict[(int,int) : Constr]\n",
    "StartConstrDict = {j : m.addConstr(T[j] >= BeginningTask[j], name = f'start_{j}') for j in range(1,K+L+2*N+1) }\n",
    "EndConstrDict = {j : m.addConstr(T[j]+DurationTask[j]<=EndTask[j], name = f'end_{j}') for j in range(1,K+L+2*N+1) }"
   ]
  },
  {
   "cell_type": "markdown",
   "id": "4369b851",
   "metadata": {},
   "source": [
    "- Délai entre 2 tâches successives"
   ]
  },
  {
   "cell_type": "code",
   "execution_count": 400,
   "id": "72dca977",
   "metadata": {},
   "outputs": [],
   "source": [
    "M=10000\n",
    "SuccessiveTasksGapConstrDict = {(i,j) : m.addConstr((T[j]-T[i]) - (Y[(i,j)]*(DurationTask[i]+TimeDict[(i,j)])+(1-Y[(i,j)])*(-M)) >= 0 , name = f'successivetaksgap_{i}_{j}') for i in range(1, K+L+2*N+1) for j in range(1, K+L+2*N+1) if i!=j }\n",
    "#SuccessiveTasksGapConstrDict = {(i,j) : m.addConstr((T[j]-T[i]) - (Y[(i,j)]*(DurationTask[i]+TimeDict[(i,j)])+(1-Y[(i,j)])*(-M)) >= 0 , name = f'successivetaksgap_{i}_{j}') for i in range(1, K+L+2*N+1) for j in range(1,K+L+2*N+1) if (i,j) in DistDict.keys() }\n"
   ]
  },
  {
   "cell_type": "markdown",
   "id": "8d8900cc",
   "metadata": {},
   "source": [
    "- Une seule tâche succède à une autre"
   ]
  },
  {
   "cell_type": "code",
   "execution_count": 401,
   "id": "5f2af84a",
   "metadata": {},
   "outputs": [],
   "source": [
    "#contrainte d'entrée/sortie\n",
    "OneTaskAfterAnother1ConstrDict = {j : m.addConstr(quicksum(Y[(k,j)] for k in range(1,K+L+2*N+1)) == 1, name = f'OneTaskAfterAnother1_{j}') for j in range(K+L+N+1, K+L+2*N+1) if j!=k}\n",
    "OneTaskAfterAnother2ConstrDict = {j : m.addConstr(quicksum(Y[(j,k)] for k in range(1,K+L+2*N+1)) == 1, name = f'OneTaskAfterAnother2_{j}') for j in range(K+L+1, K+L+N+1) if j!=k}\n",
    "\n",
    "#contrainte de flot\n",
    "OneTaskAfterAnother3ConstrDict = {j : m.addConstr(quicksum(Y[(j,k)] for k in range(1,K+L+2*N+1)) - quicksum(Y[(k,j)] for k in range(1,K+L+2*N+1)) == 0 , name = f'OneTaskAfterAnother3_{j}') for j in range(1,K+L+1) }\n",
    "OneTaskAfterAnother4ConstrDict = {j : m.addConstr(quicksum(Y[(k,j)] for k in range(1,K+L+2*N+1)) == 1, name = f'OneTaskAfterAnother4_{j}') for j in range(L+1, K+L+1) }\n",
    "OneTaskAfterAnother5ConstrDict = {j : m.addConstr(quicksum(Y[(j,k)] for k in range(1,K+L+2*N+1)) == 1, name = f'OneTaskAfterAnother5_{j}') for j in range(L+1, K+L+1) }\n",
    "#ontrainte sur les indispos\n",
    "OneTaskAfterAnother6ConstrDict = {j : m.addConstr(quicksum(Y[(k,j)] for k in range(1,K+L+2*N+1)) == 1, name = f'OneTaskAfterAnother6_{j}') for j in range(1, L+1) }\n",
    "OneTaskAfterAnother7ConstrDict = {j : m.addConstr(quicksum(Y[(j,k)] for k in range(1,K+L+2*N+1)) == 1, name = f'OneTaskAfterAnother7_{j}') for j in range(1, L+1) }\n",
    "\n",
    "TwoSuccessivesTasksCantBeTheSame = {j : m.addConstr(Y[(j,j)]==0) for j in range(1,K+L+2*N+1) }"
   ]
  },
  {
   "cell_type": "markdown",
   "id": "e52eeea4",
   "metadata": {},
   "source": [
    "- Si deux tâches sont successives il existe k tel que ces tâches sont effectuées par le même employé"
   ]
  },
  {
   "cell_type": "code",
   "execution_count": 402,
   "id": "d11105a8",
   "metadata": {},
   "outputs": [],
   "source": [
    "SuccessiveTasksOneEmployee1ConstrDict = {(i,j,k) : m.addConstr(1-Y[(i,j)]-(X[(k,i)]-X[(k,j)])>=0 , name = f'successivetaksoneemployee1_{i}_{j}_{k}') for i in range(1, K+L+1) for j in range(1, K+L+1) for k in range(1,N+1) }\n",
    "SuccessiveTasksOneEmployee2ConstrDict = {(i,j,k) : m.addConstr(1-Y[(i,j)]+(X[(k,i)]-X[(k,j)])>=0 , name = f'successivetaksoneemployee2_{i}_{j}_{k}') for i in range(1, K+L+1) for j in range(1, K+L+1) for k in range(1,N+1) }\n",
    "SuccessiveTasksOneEmployee3ConstrDict = {(i,j,k) : m.addConstr(1-Y[(i,j)]+(X[(k,i)]-X[(k,j)])>=0 , name = f'successivetaksoneemployee3_{i}_{j}_{k}') for i in range(K+L+1,K+L+2*N+1) for j in range(1,K+L+2*N+1) for k in range(1,N+1) }\n",
    "SuccessiveTasksOneEmployee3ConstrDict = {(i,j,k) : m.addConstr(1-Y[(i,j)]-(X[(k,i)]-X[(k,j)])>=0 , name = f'successivetaksoneemployee3_{i}_{j}_{k}') for i in range(1,K+L+2*N+1) for j in range(K+L+1,K+L+2*N+1) for k in range(1,N+1) }\n",
    "#idée pour empêcher qu'un employé qui ne fait aucune tâche ne fasse pas le chemin entre les deux\n",
    "#SuccessiveTasksOneEmployee4ConstrDict = {(i,j,k) : m.addConstr( Y[(i,j)]-(X[(k,i)]+X[(k,j)])/2 <=0 , name = f'successivetaksoneemployee4_{i}_{j}_{k}') for i in range(1, L+1) for j in range(1,L+1) for k in range(1,N+1) }"
   ]
  },
  {
   "cell_type": "markdown",
   "id": "a5c5d17d",
   "metadata": {},
   "source": [
    "- Contrainte d'attribution des indisponibilités et départ/retour au domicile aux bons employés"
   ]
  },
  {
   "cell_type": "code",
   "execution_count": 403,
   "id": "6189628c",
   "metadata": {},
   "outputs": [],
   "source": [
    "UnavailabilityConstr = {i : m.addConstr( X[(Unavailability[i][0], i)] == 1 , name = f'unavailabilityemployee_{i}') for i in range(1,L+1) }\n",
    "HomeDepartureConstr = {i : m.addConstr( X[(i, L+K+i)] == 1 , name = f'homedepartureemployee_{i}') for i in range(1,N+1) }\n",
    "HomeReturnConstr = {i : m.addConstr( X[(i, L+K+N+i)] == 1 , name = f'homereturnemployee_{i}') for i in range(1,N+1) }"
   ]
  },
  {
   "cell_type": "markdown",
   "id": "14256d4f",
   "metadata": {},
   "source": [
    "- Fixer heure debut indispo"
   ]
  },
  {
   "cell_type": "code",
   "execution_count": 404,
   "id": "aa744edd",
   "metadata": {},
   "outputs": [],
   "source": [
    "UnavailabilityTimeConstr = {i : m.addConstr( T[i] - BeginningTask[i] == 0 , name = f'unavailabilitytimeemployee_{i}') for i in range(1,L+1)}"
   ]
  },
  {
   "cell_type": "markdown",
   "id": "de7f4620",
   "metadata": {},
   "source": [
    "## Fonction Objectif"
   ]
  },
  {
   "cell_type": "code",
   "execution_count": 405,
   "id": "1f17e75c",
   "metadata": {},
   "outputs": [],
   "source": [
    "# -- Ajout de la fonction objectif --\n",
    "#m.setObjective(quicksum(Y[(i,j)]*TimeDict[(i,j)] for i in range (1,K+L+2*N+1) for j in range (1,K+L+2*N+1) if (i,j)  in DistDict.keys() ), GRB.MINIMIZE)\n",
    "m.setObjective(quicksum(Y[(i,j)]*TimeDict[(i,j)] for (i,j)  in DistDict.keys() ), GRB.MINIMIZE)\n"
   ]
  },
  {
   "cell_type": "code",
   "execution_count": 406,
   "id": "b1b2125b",
   "metadata": {},
   "outputs": [
    {
     "name": "stdout",
     "output_type": "stream",
     "text": [
      "1\n"
     ]
    }
   ],
   "source": [
    "# -- Choix d'un paramétrage d'affichage minimaliste --\n",
    "m.params.outputflag = 0 # mode muet\n",
    "\n",
    "# -- Mise à jour du modèle  --\n",
    "m.update()\n",
    "\n",
    "print(m.status)\n",
    "# -- Résolution --\n",
    "m.optimize()\n",
    "\n"
   ]
  },
  {
   "cell_type": "code",
   "execution_count": 407,
   "id": "bd262ee5",
   "metadata": {},
   "outputs": [
    {
     "name": "stdout",
     "output_type": "stream",
     "text": [
      "5.25577439825619\n"
     ]
    }
   ],
   "source": [
    "print(m.ObjVal)"
   ]
  },
  {
   "cell_type": "code",
   "execution_count": 408,
   "id": "06f395a6",
   "metadata": {
    "scrolled": false
   },
   "outputs": [
    {
     "name": "stdout",
     "output_type": "stream",
     "text": [
      "X0\n",
      "{(1, 1): 0.0, (1, 2): -0.0, (1, 3): -0.0, (1, 4): 1.0, (1, 5): 1.0, (1, 6): 1.0, (1, 7): 1.0, (1, 8): 1.0, (1, 9): -0.0, (1, 10): 1.0, (1, 11): -0.0, (1, 12): 1.0, (1, 13): 0.0, (1, 14): 1.0, (1, 15): 0.0, (2, 1): 1.0, (2, 2): 1.0, (2, 3): 1.0, (2, 4): 0.0, (2, 5): 0.0, (2, 6): 0.0, (2, 7): 0.0, (2, 8): 0.0, (2, 9): 1.0, (2, 10): 0.0, (2, 11): 1.0, (2, 12): 0.0, (2, 13): 1.0, (2, 14): 0.0, (2, 15): 1.0}\n",
      "T0\n",
      "{1: 12.0, 2: 13.706832173891598, 3: 15.728548686529386, 4: 14.275034268181107, 5: 12.0, 6: 15.519626629375102, 7: 13.150503645807476, 8: 9.487787801594095, 9: 9.392801007676082, 10: 8.0, 11: 8.263844681785478, 12: 7.0, 13: 8.0, 14: 17.0, 15: 18.0}\n",
      "Y0\n",
      "{(1, 1): 0.0, (1, 2): 1.0, (1, 3): -0.0, (1, 4): 0.0, (1, 5): -0.0, (1, 6): 0.0, (1, 7): 0.0, (1, 8): -0.0, (1, 9): -0.0, (1, 10): 0.0, (1, 11): -0.0, (1, 12): 0.0, (1, 13): 0.0, (1, 14): 0.0, (1, 15): 0.0, (2, 1): -0.0, (2, 2): 0.0, (2, 3): 1.0, (2, 4): -0.0, (2, 5): -0.0, (2, 6): -0.0, (2, 7): -0.0, (2, 8): -0.0, (2, 9): -0.0, (2, 10): 0.0, (2, 11): -0.0, (2, 12): 0.0, (2, 13): 0.0, (2, 14): -0.0, (2, 15): -0.0, (3, 1): -0.0, (3, 2): -0.0, (3, 3): 0.0, (3, 4): -0.0, (3, 5): -0.0, (3, 6): -0.0, (3, 7): -0.0, (3, 8): -0.0, (3, 9): -0.0, (3, 10): -0.0, (3, 11): -0.0, (3, 12): 0.0, (3, 13): 0.0, (3, 14): -0.0, (3, 15): 1.0, (4, 1): 0.0, (4, 2): -0.0, (4, 3): -0.0, (4, 4): 0.0, (4, 5): -0.0, (4, 6): 1.0, (4, 7): -0.0, (4, 8): -0.0, (4, 9): -0.0, (4, 10): -0.0, (4, 11): -0.0, (4, 12): 0.0, (4, 13): 0.0, (4, 14): -0.0, (4, 15): 0.0, (5, 1): 0.0, (5, 2): -0.0, (5, 3): -0.0, (5, 4): -0.0, (5, 5): 0.0, (5, 6): -0.0, (5, 7): 1.0, (5, 8): -0.0, (5, 9): -0.0, (5, 10): 0.0, (5, 11): -0.0, (5, 12): 0.0, (5, 13): 0.0, (5, 14): -0.0, (5, 15): -0.0, (6, 1): 0.0, (6, 2): -0.0, (6, 3): -0.0, (6, 4): -0.0, (6, 5): -0.0, (6, 6): 0.0, (6, 7): -0.0, (6, 8): -0.0, (6, 9): -0.0, (6, 10): -0.0, (6, 11): -0.0, (6, 12): 0.0, (6, 13): 0.0, (6, 14): 1.0, (6, 15): 0.0, (7, 1): 0.0, (7, 2): -0.0, (7, 3): -0.0, (7, 4): 1.0, (7, 5): -0.0, (7, 6): -0.0, (7, 7): 0.0, (7, 8): -0.0, (7, 9): -0.0, (7, 10): -0.0, (7, 11): -0.0, (7, 12): 0.0, (7, 13): 0.0, (7, 14): -0.0, (7, 15): 0.0, (8, 1): -0.0, (8, 2): -0.0, (8, 3): -0.0, (8, 4): -0.0, (8, 5): 1.0, (8, 6): -0.0, (8, 7): -0.0, (8, 8): 0.0, (8, 9): -0.0, (8, 10): -0.0, (8, 11): -0.0, (8, 12): 0.0, (8, 13): 0.0, (8, 14): -0.0, (8, 15): -0.0, (9, 1): 1.0, (9, 2): -0.0, (9, 3): -0.0, (9, 4): -0.0, (9, 5): -0.0, (9, 6): -0.0, (9, 7): -0.0, (9, 8): -0.0, (9, 9): 0.0, (9, 10): -0.0, (9, 11): -0.0, (9, 12): 0.0, (9, 13): 0.0, (9, 14): -0.0, (9, 15): -0.0, (10, 1): 0.0, (10, 2): -0.0, (10, 3): -0.0, (10, 4): -0.0, (10, 5): -0.0, (10, 6): -0.0, (10, 7): -0.0, (10, 8): 1.0, (10, 9): -0.0, (10, 10): 0.0, (10, 11): -0.0, (10, 12): 0.0, (10, 13): 0.0, (10, 14): -0.0, (10, 15): 0.0, (11, 1): -0.0, (11, 2): -0.0, (11, 3): -0.0, (11, 4): -0.0, (11, 5): -0.0, (11, 6): -0.0, (11, 7): -0.0, (11, 8): -0.0, (11, 9): 1.0, (11, 10): -0.0, (11, 11): 0.0, (11, 12): 0.0, (11, 13): 0.0, (11, 14): -0.0, (11, 15): -0.0, (12, 1): 0.0, (12, 2): -0.0, (12, 3): -0.0, (12, 4): -0.0, (12, 5): -0.0, (12, 6): -0.0, (12, 7): -0.0, (12, 8): -0.0, (12, 9): -0.0, (12, 10): 1.0, (12, 11): -0.0, (12, 12): 0.0, (12, 13): 0.0, (12, 14): -0.0, (12, 15): 0.0, (13, 1): -0.0, (13, 2): -0.0, (13, 3): -0.0, (13, 4): 0.0, (13, 5): -0.0, (13, 6): 0.0, (13, 7): 0.0, (13, 8): -0.0, (13, 9): -0.0, (13, 10): 0.0, (13, 11): 1.0, (13, 12): 0.0, (13, 13): 0.0, (13, 14): 0.0, (13, 15): 0.0, (14, 1): 0.0, (14, 2): 0.0, (14, 3): 0.0, (14, 4): 0.0, (14, 5): 0.0, (14, 6): 0.0, (14, 7): 0.0, (14, 8): 0.0, (14, 9): 0.0, (14, 10): 0.0, (14, 11): 0.0, (14, 12): 0.0, (14, 13): 0.0, (14, 14): 0.0, (14, 15): 0.0, (15, 1): 0.0, (15, 2): 0.0, (15, 3): 0.0, (15, 4): 0.0, (15, 5): 0.0, (15, 6): 0.0, (15, 7): 0.0, (15, 8): 0.0, (15, 9): 0.0, (15, 10): 0.0, (15, 11): 0.0, (15, 12): 0.0, (15, 13): 0.0, (15, 14): 0.0, (15, 15): 0.0}\n"
     ]
    }
   ],
   "source": [
    "#Extraction des sorties\n",
    "\n",
    "routeindex = dict() #dictionnaire contenant les listes ordonnées des indices des taches réalisées associé à chque employé i (i étant la valeur de la clé)\n",
    "routes = dict()   #contient les points de la route de chaque employé sous forme de liste de tuple (latitude,longitude)\n",
    "\n",
    "\n",
    "X0 = dict()\n",
    "Y0 = dict()\n",
    "T0 = dict()\n",
    "\n",
    "for i in range (1,N+1):\n",
    "    for j in range(1, L + K + 2*N + 1):\n",
    "        X0[(i,j)] = m.getVarByName(f'employeetask{i}_{j}').x\n",
    "\n",
    "\n",
    "for j in range(1, L + K + 2*N + 1):\n",
    "    T0[(j)] = m.getVarByName(f'begintask_{j}').x\n",
    "\n",
    "for i in range (1, L + K + 2*N +1):\n",
    "    for j in range(1, L + K + 2*N + 1):\n",
    "        Y0[(i,j)] = m.getVarByName(f'successivetask{i}_{j}').x\n",
    "\n",
    "print(\"X0\")\n",
    "print(X0)\n",
    "print(\"T0\")\n",
    "print(T0)\n",
    "print(\"Y0\")\n",
    "print(Y0)\n",
    "\n",
    "for i in range (1, N+1):        #on va pour chaque employé retracer son trajet grâce à Y i_j\n",
    "    a = Employees[\"EmployeeName\"][i-1]\n",
    "    routeIndiv = []\n",
    "    m = K+L+i+1\n",
    "    routeIndiv.append(m)\n",
    "    while m!= K+L+N+i:\n",
    "        for j in range (1, L+K+2*N+1):\n",
    "            if  Y0[(m,j)] == 1 :   #à adapter pour que ça fonctionne avec Y variable du pb\n",
    "                m = j\n",
    "                routeIndiv.append(m)\n",
    "        break\n",
    "    routeindex[a] = routeIndiv   \n",
    "\n",
    "\n",
    "for k in routeindex.keys():\n",
    "    routes[k] = [(Position[i][0],Position[i][1]) for i in routeindex[k]]   #ensemble des points (longitude, Latitude) organisés en listes de trajet par employé  \n",
    "\n",
    "#print(route)\n",
    "\n",
    "\n",
    "#def plotRoute(route):\n",
    " #   xs = [task[0] for task in route] + [task[0][0]]\n",
    "  #  ys = [task[1] for task in route] + [task[0][1]]\n",
    "   # plt.plot(xs, ys, 'o-')\n",
    "\n",
    "\n",
    "#for key in routes.keys():\n",
    "#    plotRoute(routes[key])\n",
    "\n",
    "#plt.ylabel('x')\n",
    "#plt.xlabel('y')\n",
    "#plt.show()\n"
   ]
  },
  {
   "cell_type": "code",
   "execution_count": 409,
   "id": "76cd1c64",
   "metadata": {},
   "outputs": [],
   "source": [
    "SolDict={'taskId' : [],'performed' : [] ,'employee_name' : [] ,'start_time' : []}  #forme de solution pour le rendu\n",
    "\n",
    "for i in range(1,len(Tasks)+L+1):\n",
    "    if i <= L:\n",
    "        SolDict['taskId'].append(\"Indispo{}\".format(i))\n",
    "    if i >= L+1:\n",
    "        SolDict['taskId'].append(Tasks['TaskId'][i-L-1])\n",
    "    SolDict['performed'].append(1) #on fait toutes les tâches \n",
    "    for k in range(len(Employees)):\n",
    "        if X0[(k+1,i+len(Employees_Unavailabilities))]==1:\n",
    "            SolDict['employee_name'].append(Employees['EmployeeName'][k])\n",
    "    SolDict['start_time'].append(int(T0[i+len(Employees_Unavailabilities)]*60))\n",
    "    \n",
    "    \n",
    "#print(Tasks['TaskId'][0])\n",
    "#print(Employees['EmployeeName'][0])\n",
    "#print(SolDict)\n",
    "\n",
    "\n",
    "EnsembleRoutesIndex = dict()  #ensemble des routes des employés représentées par des listes des indices des tâches dans l'ordre\n",
    "EnsembleRoutesLoc = dict()\n",
    "\n",
    "\n",
    "for i in range(len(SolDict['employee_name'])):\n",
    "    if SolDict['employee_name'][i] not in EnsembleRoutesIndex.keys():        #on va pour chaque employé retracer son trajet grâce à Y i_j\n",
    "        a = SolDict['employee_name'][i]\n",
    "        route = []\n",
    "        for j in range (len(SolDict['employee_name'])):          #on construit la liste des tâches de l'employé i\n",
    "            if SolDict['employee_name'][j] == a:\n",
    "                route.append(j+1)\n",
    "        for k in range (len(route)): # on la classe selon les durée de début des taches pour obtenir la route\n",
    "            for l in range (len(route)):\n",
    "                if SolDict['start_time'][k] > SolDict['start_time'][l]: # on aurait pu faire mieux en terme de complexité\n",
    "                    route[k], route[l] = route[l], route[k] \n",
    "        EnsembleRoutesIndex[SolDict['employee_name'][i]] = route\n",
    "    \n",
    "#print(EnsembleRoutesIndex)    \n",
    " \n",
    "\n",
    "for k in EnsembleRoutesIndex.keys():\n",
    "    EnsembleRoutesLoc[k] = [(Position[i][0],Position[i][1]) for i in EnsembleRoutesIndex[k]]   #ensemble des points (longitude, Latitude) organisés en listes de trajet par employé  \n",
    "\n",
    "#print(EnsembleRoutesLoc)"
   ]
  },
  {
   "cell_type": "code",
   "execution_count": 410,
   "id": "45698e2c",
   "metadata": {},
   "outputs": [
    {
     "name": "stdout",
     "output_type": "stream",
     "text": [
      "{1: {'Task': 'T1', 'Start_to_End': 60.0, 'Start': 943, 'Color': '#00FF00'}, 2: {'Task': 'T2', 'Start_to_End': 60.0, 'Start': 856, 'Color': '#00FF00'}, 3: {'Task': 'T3', 'Start_to_End': 60.0, 'Start': 720, 'Color': '#FF0000'}, 4: {'Task': 'T4', 'Start_to_End': 60.0, 'Start': 931, 'Color': '#FF0000'}, 5: {'Task': 'T5', 'Start_to_End': 60.0, 'Start': 789, 'Color': '#FF0000'}, 6: {'Task': 'T6', 'Start_to_End': 60.0, 'Start': 569, 'Color': '#FF0000'}, 7: {'Task': 'T7', 'Start_to_End': 60.0, 'Start': 563, 'Color': '#FF0000'}, 8: {'Task': 'T8', 'Start_to_End': 60.0, 'Start': 480, 'Color': '#00FF00'}, 9: {'Task': 'T9', 'Start_to_End': 60.0, 'Start': 495, 'Color': '#FF0000'}, 10: {'Task': 'T10', 'Start_to_End': 75.0, 'Start': 420, 'Color': '#00FF00'}}\n",
      "{1: [-0.6687606009488057, 44.7546825494], 2: [-0.3193922422375719, 44.55654938342008], 3: [-0.6086852638150881, 44.96750095217799], 4: [-0.7342570469020379, 45.14421541464031], 5: [-0.7717887212411139, 45.264808304867096], 6: [-0.6687606009488057, 45.044422793402624], 7: [-0.7462077931750715, 45.19957452440505], 8: [-0.9668192708194538, 45.397697776585], 9: [-0.8072126299796225, 45.02347908679639], 10: [-0.9365361007032236, 45.29291368453335], 11: [-0.8062453230620741, 45.08146166752168], 12: [-0.822092647754919, 45.15121765523164], 13: [-0.822092647754919, 45.19957452440505], 14: [-0.822092647754919, 45.15121765523164], 15: [-0.822092647754919, 45.19957452440505]}\n"
     ]
    }
   ],
   "source": [
    "#On asssocie des couleurs aux employés pour faire la visualisation\n",
    "\n",
    "\n",
    "dict_T={ i : {'Task' : 0,'Start_to_End' : 0 ,'Start' : 0, 'Color' : 0 } for i in range(1,len(Tasks)+1)}\n",
    "\n",
    "Colors=['#FF0000','#00FF00','#0000FF' ]   #la couleur de l'employé i (de 0 à N-1) vaut Colors[i]\n",
    "\n",
    "\n",
    "for i in range(1,len(Tasks)+1):\n",
    "    dict_T[i]['Task']=Tasks['TaskId'][i-1]\n",
    "    for k in range(len(Employees)):\n",
    "        if X0[(k+1,i+len(Employees_Unavailabilities))]==1:\n",
    "            dict_T[i]['Color']=Colors[k]\n",
    "    dict_T[i]['Start']=int(T0[i+len(Employees_Unavailabilities)+1]*60)\n",
    "    dict_T[i]['Start_to_End']= DurationTask[i]*60\n",
    "    \n",
    "print(dict_T)\n",
    "print(Position)"
   ]
  },
  {
   "cell_type": "code",
   "execution_count": 411,
   "id": "48d646cd",
   "metadata": {},
   "outputs": [],
   "source": [
    "import plotly.graph_objs as go\n",
    "import plotly.express as px"
   ]
  },
  {
   "cell_type": "code",
   "execution_count": 412,
   "id": "a6e0e557",
   "metadata": {},
   "outputs": [
    {
     "name": "stdout",
     "output_type": "stream",
     "text": [
      "[3, 9, 11, 7, 4, 5, 6]\n",
      "[10, 1, 8, 2]\n",
      "{'indispo1': {'lat': 44.7546825494, 'lon': -0.6687606009488057, 'color': '#00FF00'}, 'T1': {'lat': 44.55654938342008, 'lon': -0.3193922422375719, 'color': '#00FF00'}, 'T2': {'lat': 44.96750095217799, 'lon': -0.6086852638150881, 'color': '#FF0000'}, 'T3': {'lat': 45.14421541464031, 'lon': -0.7342570469020379, 'color': '#FF0000'}, 'T4': {'lat': 45.264808304867096, 'lon': -0.7717887212411139, 'color': '#FF0000'}, 'T5': {'lat': 45.044422793402624, 'lon': -0.6687606009488057, 'color': '#FF0000'}, 'T6': {'lat': 45.19957452440505, 'lon': -0.7462077931750715, 'color': '#FF0000'}, 'T7': {'lat': 45.397697776585, 'lon': -0.9668192708194538, 'color': '#00FF00'}, 'T8': {'lat': 45.02347908679639, 'lon': -0.8072126299796225, 'color': '#FF0000'}, 'T9': {'lat': 45.29291368453335, 'lon': -0.9365361007032236, 'color': '#00FF00'}, 'T10': {'lat': 45.08146166752168, 'lon': -0.8062453230620741, 'color': '#FF0000'}, 'domicile1': {'lat': 45.15121765523164, 'lon': -0.822092647754919, 'color': '#FF0000'}, 'domicile2': {'lat': 45.19957452440505, 'lon': -0.822092647754919, 'color': '#FF0000'}}\n",
      "{1: [-0.6687606009488057, 44.7546825494], 2: [-0.3193922422375719, 44.55654938342008], 3: [-0.6086852638150881, 44.96750095217799], 4: [-0.7342570469020379, 45.14421541464031], 5: [-0.7717887212411139, 45.264808304867096], 6: [-0.6687606009488057, 45.044422793402624], 7: [-0.7462077931750715, 45.19957452440505], 8: [-0.9668192708194538, 45.397697776585], 9: [-0.8072126299796225, 45.02347908679639], 10: [-0.9365361007032236, 45.29291368453335], 11: [-0.8062453230620741, 45.08146166752168], 12: [-0.822092647754919, 45.15121765523164], 13: [-0.822092647754919, 45.19957452440505], 14: [-0.822092647754919, 45.15121765523164], 15: [-0.822092647754919, 45.19957452440505]}\n"
     ]
    }
   ],
   "source": [
    "# Création d'une figure\n",
    "fig = go.Figure()\n",
    "# Ajout de marqueurs sur la carte\n",
    "Points = dict()\n",
    "for k in Position.keys(): #on parcourt les tâches\n",
    "\n",
    "    lat, lon  = Position[k][1], Position[k][0]\n",
    "\n",
    "    if k <= L:\n",
    "        text = \"indispo{}\".format(k)\n",
    "    if k >= L+K+1 and k <= L+K+N:\n",
    "        text = \"domicile{}\".format(k-L-K)\n",
    "    if k >= L+K+N+1:\n",
    "        text = \"domicile{}\".format(k-L-K-N)\n",
    "    if k >= L+1 and k <= L+K:\n",
    "        text = \"T{}\".format(k-L)\n",
    "\n",
    "    for j in range (len(Employees[\"EmployeeName\"])): #on va retrouver l'employé j correspondnat à la tâche pour lui attribuer une couleur\n",
    "        if k in EnsembleRoutesIndex[Employees[\"EmployeeName\"][j]]:\n",
    "            color = Colors[j] \n",
    "    Points[text] = dict()\n",
    "    Points[text][\"lat\"] = lat\n",
    "    Points[text][\"lon\"] = lon\n",
    "    Points[text][\"color\"] = color\n",
    "\n",
    "print(EnsembleRoutesIndex[Employees[\"EmployeeName\"][0]])\n",
    "print(EnsembleRoutesIndex[Employees[\"EmployeeName\"][1]])\n",
    "\n",
    "print(Points)\n",
    "print(Position)\n",
    "\n",
    "\n"
   ]
  },
  {
   "cell_type": "code",
   "execution_count": 413,
   "id": "6d24bde4",
   "metadata": {},
   "outputs": [
    {
     "data": {
      "application/vnd.plotly.v1+json": {
       "config": {
        "plotlyServerURL": "https://plot.ly"
       },
       "data": [
        {
         "lat": [
          44.7546825494
         ],
         "lon": [
          -0.6687606009488057
         ],
         "marker": {
          "color": "#00FF00",
          "size": 10
         },
         "mode": "markers",
         "text": [
          "indispo1"
         ],
         "type": "scattermapbox"
        },
        {
         "lat": [
          44.55654938342008
         ],
         "lon": [
          -0.3193922422375719
         ],
         "marker": {
          "color": "#00FF00",
          "size": 10
         },
         "mode": "markers",
         "text": [
          "T1"
         ],
         "type": "scattermapbox"
        },
        {
         "lat": [
          44.96750095217799
         ],
         "lon": [
          -0.6086852638150881
         ],
         "marker": {
          "color": "#FF0000",
          "size": 10
         },
         "mode": "markers",
         "text": [
          "T2"
         ],
         "type": "scattermapbox"
        },
        {
         "lat": [
          45.14421541464031
         ],
         "lon": [
          -0.7342570469020379
         ],
         "marker": {
          "color": "#FF0000",
          "size": 10
         },
         "mode": "markers",
         "text": [
          "T3"
         ],
         "type": "scattermapbox"
        },
        {
         "lat": [
          45.264808304867096
         ],
         "lon": [
          -0.7717887212411139
         ],
         "marker": {
          "color": "#FF0000",
          "size": 10
         },
         "mode": "markers",
         "text": [
          "T4"
         ],
         "type": "scattermapbox"
        },
        {
         "lat": [
          45.044422793402624
         ],
         "lon": [
          -0.6687606009488057
         ],
         "marker": {
          "color": "#FF0000",
          "size": 10
         },
         "mode": "markers",
         "text": [
          "T5"
         ],
         "type": "scattermapbox"
        },
        {
         "lat": [
          45.19957452440505
         ],
         "lon": [
          -0.7462077931750715
         ],
         "marker": {
          "color": "#FF0000",
          "size": 10
         },
         "mode": "markers",
         "text": [
          "T6"
         ],
         "type": "scattermapbox"
        },
        {
         "lat": [
          45.397697776585
         ],
         "lon": [
          -0.9668192708194538
         ],
         "marker": {
          "color": "#00FF00",
          "size": 10
         },
         "mode": "markers",
         "text": [
          "T7"
         ],
         "type": "scattermapbox"
        },
        {
         "lat": [
          45.02347908679639
         ],
         "lon": [
          -0.8072126299796225
         ],
         "marker": {
          "color": "#FF0000",
          "size": 10
         },
         "mode": "markers",
         "text": [
          "T8"
         ],
         "type": "scattermapbox"
        },
        {
         "lat": [
          45.29291368453335
         ],
         "lon": [
          -0.9365361007032236
         ],
         "marker": {
          "color": "#00FF00",
          "size": 10
         },
         "mode": "markers",
         "text": [
          "T9"
         ],
         "type": "scattermapbox"
        },
        {
         "lat": [
          45.08146166752168
         ],
         "lon": [
          -0.8062453230620741
         ],
         "marker": {
          "color": "#FF0000",
          "size": 10
         },
         "mode": "markers",
         "text": [
          "T10"
         ],
         "type": "scattermapbox"
        },
        {
         "lat": [
          45.15121765523164
         ],
         "lon": [
          -0.822092647754919
         ],
         "marker": {
          "color": "#FF0000",
          "size": 10
         },
         "mode": "markers",
         "text": [
          "domicile1"
         ],
         "type": "scattermapbox"
        },
        {
         "lat": [
          45.19957452440505
         ],
         "lon": [
          -0.822092647754919
         ],
         "marker": {
          "color": "#FF0000",
          "size": 10
         },
         "mode": "markers",
         "text": [
          "domicile2"
         ],
         "type": "scattermapbox"
        },
        {
         "lat": [
          44.96750095217799,
          45.02347908679639
         ],
         "line": {
          "color": "#FF0000",
          "width": 2
         },
         "lon": [
          -0.6086852638150881,
          -0.8072126299796225
         ],
         "mode": "lines",
         "type": "scattermapbox"
        },
        {
         "lat": [
          45.02347908679639,
          45.08146166752168
         ],
         "line": {
          "color": "#FF0000",
          "width": 2
         },
         "lon": [
          -0.8072126299796225,
          -0.8062453230620741
         ],
         "mode": "lines",
         "type": "scattermapbox"
        },
        {
         "lat": [
          45.08146166752168,
          45.19957452440505
         ],
         "line": {
          "color": "#FF0000",
          "width": 2
         },
         "lon": [
          -0.8062453230620741,
          -0.7462077931750715
         ],
         "mode": "lines",
         "type": "scattermapbox"
        },
        {
         "lat": [
          45.19957452440505,
          45.14421541464031
         ],
         "line": {
          "color": "#FF0000",
          "width": 2
         },
         "lon": [
          -0.7462077931750715,
          -0.7342570469020379
         ],
         "mode": "lines",
         "type": "scattermapbox"
        },
        {
         "lat": [
          45.14421541464031,
          45.264808304867096
         ],
         "line": {
          "color": "#FF0000",
          "width": 2
         },
         "lon": [
          -0.7342570469020379,
          -0.7717887212411139
         ],
         "mode": "lines",
         "type": "scattermapbox"
        },
        {
         "lat": [
          45.264808304867096,
          45.044422793402624
         ],
         "line": {
          "color": "#FF0000",
          "width": 2
         },
         "lon": [
          -0.7717887212411139,
          -0.6687606009488057
         ],
         "mode": "lines",
         "type": "scattermapbox"
        },
        {
         "lat": [
          45.044422793402624,
          44.96750095217799
         ],
         "line": {
          "color": "#FF0000",
          "width": 2
         },
         "lon": [
          -0.6687606009488057,
          -0.6086852638150881
         ],
         "mode": "lines",
         "type": "scattermapbox"
        },
        {
         "lat": [
          45.29291368453335,
          44.7546825494
         ],
         "line": {
          "color": "#00FF00",
          "width": 2
         },
         "lon": [
          -0.9365361007032236,
          -0.6687606009488057
         ],
         "mode": "lines",
         "type": "scattermapbox"
        },
        {
         "lat": [
          44.7546825494,
          45.397697776585
         ],
         "line": {
          "color": "#00FF00",
          "width": 2
         },
         "lon": [
          -0.6687606009488057,
          -0.9668192708194538
         ],
         "mode": "lines",
         "type": "scattermapbox"
        },
        {
         "lat": [
          45.397697776585,
          44.55654938342008
         ],
         "line": {
          "color": "#00FF00",
          "width": 2
         },
         "lon": [
          -0.9668192708194538,
          -0.3193922422375719
         ],
         "mode": "lines",
         "type": "scattermapbox"
        },
        {
         "lat": [
          44.55654938342008,
          45.29291368453335
         ],
         "line": {
          "color": "#00FF00",
          "width": 2
         },
         "lon": [
          -0.3193922422375719,
          -0.9365361007032236
         ],
         "mode": "lines",
         "type": "scattermapbox"
        }
       ],
       "layout": {
        "mapbox": {
         "center": {
          "lat": 45.19957452440505,
          "lon": -0.822092647754919
         },
         "style": "open-street-map",
         "zoom": 7
        },
        "template": {
         "data": {
          "bar": [
           {
            "error_x": {
             "color": "#2a3f5f"
            },
            "error_y": {
             "color": "#2a3f5f"
            },
            "marker": {
             "line": {
              "color": "#E5ECF6",
              "width": 0.5
             },
             "pattern": {
              "fillmode": "overlay",
              "size": 10,
              "solidity": 0.2
             }
            },
            "type": "bar"
           }
          ],
          "barpolar": [
           {
            "marker": {
             "line": {
              "color": "#E5ECF6",
              "width": 0.5
             },
             "pattern": {
              "fillmode": "overlay",
              "size": 10,
              "solidity": 0.2
             }
            },
            "type": "barpolar"
           }
          ],
          "carpet": [
           {
            "aaxis": {
             "endlinecolor": "#2a3f5f",
             "gridcolor": "white",
             "linecolor": "white",
             "minorgridcolor": "white",
             "startlinecolor": "#2a3f5f"
            },
            "baxis": {
             "endlinecolor": "#2a3f5f",
             "gridcolor": "white",
             "linecolor": "white",
             "minorgridcolor": "white",
             "startlinecolor": "#2a3f5f"
            },
            "type": "carpet"
           }
          ],
          "choropleth": [
           {
            "colorbar": {
             "outlinewidth": 0,
             "ticks": ""
            },
            "type": "choropleth"
           }
          ],
          "contour": [
           {
            "colorbar": {
             "outlinewidth": 0,
             "ticks": ""
            },
            "colorscale": [
             [
              0,
              "#0d0887"
             ],
             [
              0.1111111111111111,
              "#46039f"
             ],
             [
              0.2222222222222222,
              "#7201a8"
             ],
             [
              0.3333333333333333,
              "#9c179e"
             ],
             [
              0.4444444444444444,
              "#bd3786"
             ],
             [
              0.5555555555555556,
              "#d8576b"
             ],
             [
              0.6666666666666666,
              "#ed7953"
             ],
             [
              0.7777777777777778,
              "#fb9f3a"
             ],
             [
              0.8888888888888888,
              "#fdca26"
             ],
             [
              1,
              "#f0f921"
             ]
            ],
            "type": "contour"
           }
          ],
          "contourcarpet": [
           {
            "colorbar": {
             "outlinewidth": 0,
             "ticks": ""
            },
            "type": "contourcarpet"
           }
          ],
          "heatmap": [
           {
            "colorbar": {
             "outlinewidth": 0,
             "ticks": ""
            },
            "colorscale": [
             [
              0,
              "#0d0887"
             ],
             [
              0.1111111111111111,
              "#46039f"
             ],
             [
              0.2222222222222222,
              "#7201a8"
             ],
             [
              0.3333333333333333,
              "#9c179e"
             ],
             [
              0.4444444444444444,
              "#bd3786"
             ],
             [
              0.5555555555555556,
              "#d8576b"
             ],
             [
              0.6666666666666666,
              "#ed7953"
             ],
             [
              0.7777777777777778,
              "#fb9f3a"
             ],
             [
              0.8888888888888888,
              "#fdca26"
             ],
             [
              1,
              "#f0f921"
             ]
            ],
            "type": "heatmap"
           }
          ],
          "heatmapgl": [
           {
            "colorbar": {
             "outlinewidth": 0,
             "ticks": ""
            },
            "colorscale": [
             [
              0,
              "#0d0887"
             ],
             [
              0.1111111111111111,
              "#46039f"
             ],
             [
              0.2222222222222222,
              "#7201a8"
             ],
             [
              0.3333333333333333,
              "#9c179e"
             ],
             [
              0.4444444444444444,
              "#bd3786"
             ],
             [
              0.5555555555555556,
              "#d8576b"
             ],
             [
              0.6666666666666666,
              "#ed7953"
             ],
             [
              0.7777777777777778,
              "#fb9f3a"
             ],
             [
              0.8888888888888888,
              "#fdca26"
             ],
             [
              1,
              "#f0f921"
             ]
            ],
            "type": "heatmapgl"
           }
          ],
          "histogram": [
           {
            "marker": {
             "pattern": {
              "fillmode": "overlay",
              "size": 10,
              "solidity": 0.2
             }
            },
            "type": "histogram"
           }
          ],
          "histogram2d": [
           {
            "colorbar": {
             "outlinewidth": 0,
             "ticks": ""
            },
            "colorscale": [
             [
              0,
              "#0d0887"
             ],
             [
              0.1111111111111111,
              "#46039f"
             ],
             [
              0.2222222222222222,
              "#7201a8"
             ],
             [
              0.3333333333333333,
              "#9c179e"
             ],
             [
              0.4444444444444444,
              "#bd3786"
             ],
             [
              0.5555555555555556,
              "#d8576b"
             ],
             [
              0.6666666666666666,
              "#ed7953"
             ],
             [
              0.7777777777777778,
              "#fb9f3a"
             ],
             [
              0.8888888888888888,
              "#fdca26"
             ],
             [
              1,
              "#f0f921"
             ]
            ],
            "type": "histogram2d"
           }
          ],
          "histogram2dcontour": [
           {
            "colorbar": {
             "outlinewidth": 0,
             "ticks": ""
            },
            "colorscale": [
             [
              0,
              "#0d0887"
             ],
             [
              0.1111111111111111,
              "#46039f"
             ],
             [
              0.2222222222222222,
              "#7201a8"
             ],
             [
              0.3333333333333333,
              "#9c179e"
             ],
             [
              0.4444444444444444,
              "#bd3786"
             ],
             [
              0.5555555555555556,
              "#d8576b"
             ],
             [
              0.6666666666666666,
              "#ed7953"
             ],
             [
              0.7777777777777778,
              "#fb9f3a"
             ],
             [
              0.8888888888888888,
              "#fdca26"
             ],
             [
              1,
              "#f0f921"
             ]
            ],
            "type": "histogram2dcontour"
           }
          ],
          "mesh3d": [
           {
            "colorbar": {
             "outlinewidth": 0,
             "ticks": ""
            },
            "type": "mesh3d"
           }
          ],
          "parcoords": [
           {
            "line": {
             "colorbar": {
              "outlinewidth": 0,
              "ticks": ""
             }
            },
            "type": "parcoords"
           }
          ],
          "pie": [
           {
            "automargin": true,
            "type": "pie"
           }
          ],
          "scatter": [
           {
            "fillpattern": {
             "fillmode": "overlay",
             "size": 10,
             "solidity": 0.2
            },
            "type": "scatter"
           }
          ],
          "scatter3d": [
           {
            "line": {
             "colorbar": {
              "outlinewidth": 0,
              "ticks": ""
             }
            },
            "marker": {
             "colorbar": {
              "outlinewidth": 0,
              "ticks": ""
             }
            },
            "type": "scatter3d"
           }
          ],
          "scattercarpet": [
           {
            "marker": {
             "colorbar": {
              "outlinewidth": 0,
              "ticks": ""
             }
            },
            "type": "scattercarpet"
           }
          ],
          "scattergeo": [
           {
            "marker": {
             "colorbar": {
              "outlinewidth": 0,
              "ticks": ""
             }
            },
            "type": "scattergeo"
           }
          ],
          "scattergl": [
           {
            "marker": {
             "colorbar": {
              "outlinewidth": 0,
              "ticks": ""
             }
            },
            "type": "scattergl"
           }
          ],
          "scattermapbox": [
           {
            "marker": {
             "colorbar": {
              "outlinewidth": 0,
              "ticks": ""
             }
            },
            "type": "scattermapbox"
           }
          ],
          "scatterpolar": [
           {
            "marker": {
             "colorbar": {
              "outlinewidth": 0,
              "ticks": ""
             }
            },
            "type": "scatterpolar"
           }
          ],
          "scatterpolargl": [
           {
            "marker": {
             "colorbar": {
              "outlinewidth": 0,
              "ticks": ""
             }
            },
            "type": "scatterpolargl"
           }
          ],
          "scatterternary": [
           {
            "marker": {
             "colorbar": {
              "outlinewidth": 0,
              "ticks": ""
             }
            },
            "type": "scatterternary"
           }
          ],
          "surface": [
           {
            "colorbar": {
             "outlinewidth": 0,
             "ticks": ""
            },
            "colorscale": [
             [
              0,
              "#0d0887"
             ],
             [
              0.1111111111111111,
              "#46039f"
             ],
             [
              0.2222222222222222,
              "#7201a8"
             ],
             [
              0.3333333333333333,
              "#9c179e"
             ],
             [
              0.4444444444444444,
              "#bd3786"
             ],
             [
              0.5555555555555556,
              "#d8576b"
             ],
             [
              0.6666666666666666,
              "#ed7953"
             ],
             [
              0.7777777777777778,
              "#fb9f3a"
             ],
             [
              0.8888888888888888,
              "#fdca26"
             ],
             [
              1,
              "#f0f921"
             ]
            ],
            "type": "surface"
           }
          ],
          "table": [
           {
            "cells": {
             "fill": {
              "color": "#EBF0F8"
             },
             "line": {
              "color": "white"
             }
            },
            "header": {
             "fill": {
              "color": "#C8D4E3"
             },
             "line": {
              "color": "white"
             }
            },
            "type": "table"
           }
          ]
         },
         "layout": {
          "annotationdefaults": {
           "arrowcolor": "#2a3f5f",
           "arrowhead": 0,
           "arrowwidth": 1
          },
          "autotypenumbers": "strict",
          "coloraxis": {
           "colorbar": {
            "outlinewidth": 0,
            "ticks": ""
           }
          },
          "colorscale": {
           "diverging": [
            [
             0,
             "#8e0152"
            ],
            [
             0.1,
             "#c51b7d"
            ],
            [
             0.2,
             "#de77ae"
            ],
            [
             0.3,
             "#f1b6da"
            ],
            [
             0.4,
             "#fde0ef"
            ],
            [
             0.5,
             "#f7f7f7"
            ],
            [
             0.6,
             "#e6f5d0"
            ],
            [
             0.7,
             "#b8e186"
            ],
            [
             0.8,
             "#7fbc41"
            ],
            [
             0.9,
             "#4d9221"
            ],
            [
             1,
             "#276419"
            ]
           ],
           "sequential": [
            [
             0,
             "#0d0887"
            ],
            [
             0.1111111111111111,
             "#46039f"
            ],
            [
             0.2222222222222222,
             "#7201a8"
            ],
            [
             0.3333333333333333,
             "#9c179e"
            ],
            [
             0.4444444444444444,
             "#bd3786"
            ],
            [
             0.5555555555555556,
             "#d8576b"
            ],
            [
             0.6666666666666666,
             "#ed7953"
            ],
            [
             0.7777777777777778,
             "#fb9f3a"
            ],
            [
             0.8888888888888888,
             "#fdca26"
            ],
            [
             1,
             "#f0f921"
            ]
           ],
           "sequentialminus": [
            [
             0,
             "#0d0887"
            ],
            [
             0.1111111111111111,
             "#46039f"
            ],
            [
             0.2222222222222222,
             "#7201a8"
            ],
            [
             0.3333333333333333,
             "#9c179e"
            ],
            [
             0.4444444444444444,
             "#bd3786"
            ],
            [
             0.5555555555555556,
             "#d8576b"
            ],
            [
             0.6666666666666666,
             "#ed7953"
            ],
            [
             0.7777777777777778,
             "#fb9f3a"
            ],
            [
             0.8888888888888888,
             "#fdca26"
            ],
            [
             1,
             "#f0f921"
            ]
           ]
          },
          "colorway": [
           "#636efa",
           "#EF553B",
           "#00cc96",
           "#ab63fa",
           "#FFA15A",
           "#19d3f3",
           "#FF6692",
           "#B6E880",
           "#FF97FF",
           "#FECB52"
          ],
          "font": {
           "color": "#2a3f5f"
          },
          "geo": {
           "bgcolor": "white",
           "lakecolor": "white",
           "landcolor": "#E5ECF6",
           "showlakes": true,
           "showland": true,
           "subunitcolor": "white"
          },
          "hoverlabel": {
           "align": "left"
          },
          "hovermode": "closest",
          "mapbox": {
           "style": "light"
          },
          "paper_bgcolor": "white",
          "plot_bgcolor": "#E5ECF6",
          "polar": {
           "angularaxis": {
            "gridcolor": "white",
            "linecolor": "white",
            "ticks": ""
           },
           "bgcolor": "#E5ECF6",
           "radialaxis": {
            "gridcolor": "white",
            "linecolor": "white",
            "ticks": ""
           }
          },
          "scene": {
           "xaxis": {
            "backgroundcolor": "#E5ECF6",
            "gridcolor": "white",
            "gridwidth": 2,
            "linecolor": "white",
            "showbackground": true,
            "ticks": "",
            "zerolinecolor": "white"
           },
           "yaxis": {
            "backgroundcolor": "#E5ECF6",
            "gridcolor": "white",
            "gridwidth": 2,
            "linecolor": "white",
            "showbackground": true,
            "ticks": "",
            "zerolinecolor": "white"
           },
           "zaxis": {
            "backgroundcolor": "#E5ECF6",
            "gridcolor": "white",
            "gridwidth": 2,
            "linecolor": "white",
            "showbackground": true,
            "ticks": "",
            "zerolinecolor": "white"
           }
          },
          "shapedefaults": {
           "line": {
            "color": "#2a3f5f"
           }
          },
          "ternary": {
           "aaxis": {
            "gridcolor": "white",
            "linecolor": "white",
            "ticks": ""
           },
           "baxis": {
            "gridcolor": "white",
            "linecolor": "white",
            "ticks": ""
           },
           "bgcolor": "#E5ECF6",
           "caxis": {
            "gridcolor": "white",
            "linecolor": "white",
            "ticks": ""
           }
          },
          "title": {
           "x": 0.05
          },
          "xaxis": {
           "automargin": true,
           "gridcolor": "white",
           "linecolor": "white",
           "ticks": "",
           "title": {
            "standoff": 15
           },
           "zerolinecolor": "white",
           "zerolinewidth": 2
          },
          "yaxis": {
           "automargin": true,
           "gridcolor": "white",
           "linecolor": "white",
           "ticks": "",
           "title": {
            "standoff": 15
           },
           "zerolinecolor": "white",
           "zerolinewidth": 2
          }
         }
        }
       }
      }
     },
     "metadata": {},
     "output_type": "display_data"
    }
   ],
   "source": [
    "for nom, coordonnees in Points.items():\n",
    "    fig.add_trace(go.Scattermapbox(\n",
    "    mode=\"markers\",\n",
    "    lon=[coordonnees[\"lon\"]],\n",
    "    lat=[coordonnees[\"lat\"]],\n",
    "    marker=dict(\n",
    "        size=10,\n",
    "        color=coordonnees[\"color\"],\n",
    "    ),\n",
    "    text=[nom],\n",
    "))     \n",
    "\n",
    "#print(Points)\n",
    "\n",
    "# Ajout d'un segment sur la carte    \n",
    "for k in range (len(EnsembleRoutesLoc.keys())) :  #on parcourt les employés et donc les couleurs\n",
    "    a = Employees[\"EmployeeName\"][k]\n",
    "    color = Colors[k]\n",
    "    for i in range (len(EnsembleRoutesLoc[a])-1):\n",
    "        fig.add_trace(go.Scattermapbox(\n",
    "    mode=\"lines\",\n",
    "    lon=[EnsembleRoutesLoc[a][i][0], EnsembleRoutesLoc[a][i+1][0]],\n",
    "    lat=[EnsembleRoutesLoc[a][i][1], EnsembleRoutesLoc[a][i+1][1]],\n",
    "    line=dict(width=2, color=color),\n",
    "))\n",
    "    fig.add_trace(go.Scattermapbox(\n",
    "    mode=\"lines\",\n",
    "    lon=[EnsembleRoutesLoc[a][len(EnsembleRoutesLoc[a])-1][0], EnsembleRoutesLoc[a][0][0]],\n",
    "    lat=[EnsembleRoutesLoc[a][len(EnsembleRoutesLoc[a])-1][1], EnsembleRoutesLoc[a][0][1]],\n",
    "    \n",
    "\n",
    "    line=dict(width=2, color=color),\n",
    "))\n",
    "\n",
    "\n",
    "# Configuration de la carte\n",
    "fig.update_layout(\n",
    "    mapbox=dict(\n",
    "        style=\"open-street-map\",\n",
    "        center=go.layout.mapbox.Center(lon=lon, lat=lat),\n",
    "        zoom=7,\n",
    "    ),\n",
    ")\n",
    "\n",
    "# Affichage de la carte\n",
    "fig.show()\n"
   ]
  },
  {
   "cell_type": "code",
   "execution_count": 414,
   "id": "c1b3d1c9",
   "metadata": {},
   "outputs": [],
   "source": [
    "# Modules de base\n",
    "import numpy as np\n",
    "import matplotlib.pyplot as plt\n",
    "%matplotlib inline\n",
    "import pandas as pd \n",
    "\n",
    "# Module relatif à Gurobi\n",
    "from gurobipy import *\n",
    "\n",
    "# Module csv\n",
    "import csv"
   ]
  },
  {
   "cell_type": "code",
   "execution_count": 415,
   "id": "6084ee63",
   "metadata": {},
   "outputs": [
    {
     "name": "stdout",
     "output_type": "stream",
     "text": [
      "Empty DataFrame\n",
      "Columns: [EmployeeName, Latitude, Longitude, Start, End]\n",
      "Index: []\n",
      "  EmployeeName  Latitude  Longitude     Skill  Level WorkingStartTime  \\\n",
      "0          Tom  0.303747   0.815913  Plumbing      1           8:00am   \n",
      "\n",
      "  WorkingEndTime  \n",
      "0         6:00pm  \n"
     ]
    }
   ],
   "source": [
    "# Instance_file : str\n",
    "Instance_file = \"InstanceGuineaGolfV1.xlsx\"\n",
    "\n",
    "# Chargement des donnees\n",
    "Employees = pd.read_excel(Instance_file, sheet_name= 'Employees')\n",
    "Tasks = pd.read_excel(Instance_file, sheet_name= 'Tasks')\n",
    "Employees_Unavailabilities = pd.read_excel(Instance_file, sheet_name= 'Employees Unavailabilities')\n",
    "Tasks_Unavailabilities = pd.read_excel(Instance_file, sheet_name= 'Tasks Unavailabilities')\n",
    "\n",
    "#print(Employees)\n",
    "#print(Tasks)\n",
    "print(Employees_Unavailabilities)\n",
    "\n",
    "# Chargement des donnees\n",
    "Employees = pd.read_excel(Instance_file, sheet_name= 'Employees')\n",
    "Tasks = pd.read_excel(Instance_file, sheet_name= 'Tasks')\n",
    "Employees_Unavailabilities = pd.read_excel(Instance_file, sheet_name= 'Employees Unavailabilities')\n",
    "Tasks_Unavailabilities = pd.read_excel(Instance_file, sheet_name= 'Tasks Unavailabilities')\n",
    "\n",
    "print(Employees)\n",
    "#print(Tasks)"
   ]
  },
  {
   "cell_type": "code",
   "execution_count": 416,
   "id": "73c013f0",
   "metadata": {},
   "outputs": [
    {
     "name": "stdout",
     "output_type": "stream",
     "text": [
      "T1\n",
      "Tom\n",
      "{'taskId': ['T1', 'T2', 'T3', 'T4', 'T5', 'T6', 'T7', 'T8', 'T9'], 'performed': [1, 1, 1, 1, 1, 1, 1, 1, 1], 'employee_name': ['Tom', 'Tom', 'Tom', 'Tom', 'Tom'], 'start_time': [720, 822, 943, 856, 720, 931, 789, 569, 563]}\n"
     ]
    }
   ],
   "source": [
    "SolDict={'taskId' : [],'performed' : [] ,'employee_name' : [] ,'start_time' : []}\n",
    "\n",
    "for i in range(len(Tasks)):\n",
    "    SolDict['taskId'].append(Tasks['TaskId'][i])\n",
    "    SolDict['performed'].append(1) #on fait toutes les tâches \n",
    "    for k in range(len(Employees)):\n",
    "        if X0[(k+1,i+len(Employees_Unavailabilities)+1)]==1:\n",
    "            SolDict['employee_name'].append(Employees['EmployeeName'][k])\n",
    "    SolDict['start_time'].append(int(T0[i+len(Employees_Unavailabilities)+1]*60))\n",
    "    \n",
    "    \n",
    "print(Tasks['TaskId'][0])\n",
    "print(Employees['EmployeeName'][0])\n",
    "print(SolDict)\n",
    "#len(Employees_Unavailabilities)"
   ]
  },
  {
   "cell_type": "code",
   "execution_count": 417,
   "id": "f1d5ecb7",
   "metadata": {},
   "outputs": [
    {
     "data": {
      "image/png": "[encoded data removed]",
      "text/plain": [
       "<Figure size 1600x600 with 1 Axes>"
      ]
     },
     "metadata": {},
     "output_type": "display_data"
    }
   ],
   "source": [
    "import plotly.express as px\n",
    "import pandas as pd\n",
    "\n",
    "df = pd.DataFrame([\n",
    "    dict_T[i] for i in range(1,len(Tasks)+1)\n",
    "])\n",
    "\n",
    "from matplotlib.patches import Patch\n",
    "fig, ax = plt.subplots(1, figsize=(16,6))\n",
    "ax.barh(df.Task, df.Start_to_End, left=df.Start, color=df.Color)\n",
    "##### LEGENDS #####\n",
    "c_dict = {'Valentin':'#E64646' , 'Ambre':'#E69646' }\n",
    "legend_elements = [Patch(facecolor=c_dict[i], label=i)  for i in c_dict]\n",
    "plt.legend(handles=legend_elements)\n",
    "\n",
    "plt.show()"
   ]
  },
  {
   "cell_type": "code",
   "execution_count": null,
   "id": "6b1da8c9",
   "metadata": {},
   "outputs": [],
   "source": []
  },
  {
   "cell_type": "code",
   "execution_count": null,
   "id": "c54d4d3b",
   "metadata": {},
   "outputs": [],
   "source": []
  },
  {
   "cell_type": "code",
   "execution_count": null,
   "id": "1768b244",
   "metadata": {},
   "outputs": [],
   "source": []
  },
  {
   "cell_type": "code",
   "execution_count": null,
   "id": "95a75533",
   "metadata": {},
   "outputs": [],
   "source": []
  }
 ],
 "metadata": {
  "kernelspec": {
   "display_name": "Python 3 (ipykernel)",
   "language": "python",
   "name": "python3"
  },
  "language_info": {
   "codemirror_mode": {
    "name": "ipython",
    "version": 3
   },
   "file_extension": ".py",
   "mimetype": "text/x-python",
   "name": "python",
   "nbconvert_exporter": "python",
   "pygments_lexer": "ipython3",
   "version": "3.9.13"
  }
 },
 "nbformat": 4,
 "nbformat_minor": 5
}
